{
 "cells": [
  {
   "cell_type": "markdown",
   "id": "9f9e810c",
   "metadata": {},
   "source": [
    "# >> ~~Week_3_Youtube_Dislike_Datset_Project....~~"
   ]
  },
  {
   "cell_type": "markdown",
   "id": "b880f249",
   "metadata": {},
   "source": [
    "# Q1. Import required libraries and read the provided dataset (youtube_dislike_dataset.csv) and retrieve top 5 and bottom 5 records..."
   ]
  },
  {
   "cell_type": "code",
   "execution_count": 3,
   "id": "1f153458",
   "metadata": {
    "ExecuteTime": {
     "end_time": "2024-01-27T17:43:53.067036Z",
     "start_time": "2024-01-27T17:43:46.932752Z"
    }
   },
   "outputs": [],
   "source": [
    "import numpy as np    # imported numpy library \n",
    "import pandas as pd   # imported pandas library \n",
    "import matplotlib.pyplot as plt # imported matplotlib library\n",
    "import seaborn as sns  # imported seaborn library\n"
   ]
  },
  {
   "cell_type": "code",
   "execution_count": 4,
   "id": "fd6667c5",
   "metadata": {
    "ExecuteTime": {
     "end_time": "2024-01-27T17:43:56.232567Z",
     "start_time": "2024-01-27T17:43:53.815511Z"
    }
   },
   "outputs": [],
   "source": [
    "# Importing csv file...  \n",
    "\n",
    "df = pd.read_csv(\"C:\\\\Users\\\\91724\\\\Downloads\\\\youtube_dislike_dataset.csv\")"
   ]
  },
  {
   "cell_type": "code",
   "execution_count": 3,
   "id": "bb15674f",
   "metadata": {
    "ExecuteTime": {
     "end_time": "2024-01-27T11:36:48.634817Z",
     "start_time": "2024-01-27T11:36:48.605668Z"
    },
    "scrolled": false
   },
   "outputs": [
    {
     "data": {
      "text/html": [
       "<div>\n",
       "<style scoped>\n",
       "    .dataframe tbody tr th:only-of-type {\n",
       "        vertical-align: middle;\n",
       "    }\n",
       "\n",
       "    .dataframe tbody tr th {\n",
       "        vertical-align: top;\n",
       "    }\n",
       "\n",
       "    .dataframe thead th {\n",
       "        text-align: right;\n",
       "    }\n",
       "</style>\n",
       "<table border=\"1\" class=\"dataframe\">\n",
       "  <thead>\n",
       "    <tr style=\"text-align: right;\">\n",
       "      <th></th>\n",
       "      <th>video_id</th>\n",
       "      <th>title</th>\n",
       "      <th>channel_id</th>\n",
       "      <th>channel_title</th>\n",
       "      <th>published_at</th>\n",
       "      <th>view_count</th>\n",
       "      <th>likes</th>\n",
       "      <th>dislikes</th>\n",
       "      <th>comment_count</th>\n",
       "      <th>tags</th>\n",
       "      <th>description</th>\n",
       "      <th>comments</th>\n",
       "    </tr>\n",
       "  </thead>\n",
       "  <tbody>\n",
       "    <tr>\n",
       "      <th>0</th>\n",
       "      <td>--0bCF-iK2E</td>\n",
       "      <td>Jadon Sancho  Magical Skills &amp; Goals</td>\n",
       "      <td>UC6UL29enLNe4mqwTfAyeNuw</td>\n",
       "      <td>Bundesliga</td>\n",
       "      <td>2021-07-01 10:00:00</td>\n",
       "      <td>1048888</td>\n",
       "      <td>19515</td>\n",
       "      <td>226</td>\n",
       "      <td>1319</td>\n",
       "      <td>football soccer ftbol alemn Bundesliga season ...</td>\n",
       "      <td>Enjoy the best skills and goals from Jadon San...</td>\n",
       "      <td>Respect to Dortmund fans,must be sad losing hi...</td>\n",
       "    </tr>\n",
       "    <tr>\n",
       "      <th>1</th>\n",
       "      <td>--14w5SOEUs</td>\n",
       "      <td>Migos - Avalanche (Official Video)</td>\n",
       "      <td>UCGIelM2Dj3zza3xyV3pL3WQ</td>\n",
       "      <td>MigosVEVO</td>\n",
       "      <td>2021-06-10 16:00:00</td>\n",
       "      <td>15352638</td>\n",
       "      <td>359277</td>\n",
       "      <td>7479</td>\n",
       "      <td>18729</td>\n",
       "      <td>Migos Avalanche Quality Control Music/Motown R...</td>\n",
       "      <td>Watch the the official video for Migos - \"Aval...</td>\n",
       "      <td>Migos just makes me want to live my live to th...</td>\n",
       "    </tr>\n",
       "    <tr>\n",
       "      <th>2</th>\n",
       "      <td>--40TEbZ9Is</td>\n",
       "      <td>Supporting Actress in a Comedy: 73rd Emmys</td>\n",
       "      <td>UClBKH8yZRcM4AsRjDVEdjMg</td>\n",
       "      <td>Television Academy</td>\n",
       "      <td>2021-09-20 01:03:32</td>\n",
       "      <td>925281</td>\n",
       "      <td>11212</td>\n",
       "      <td>401</td>\n",
       "      <td>831</td>\n",
       "      <td></td>\n",
       "      <td>Hannah Waddingham wins the Emmy for Supporting...</td>\n",
       "      <td>Hannah's energy bursts through any screen. Wel...</td>\n",
       "    </tr>\n",
       "    <tr>\n",
       "      <th>3</th>\n",
       "      <td>--4tfbSyYDE</td>\n",
       "      <td>JO1'YOUNG (JO1 ver.)' PERFORMANCE VIDEO</td>\n",
       "      <td>UCsmXiDP8S40uBeJYxvyulmA</td>\n",
       "      <td>JO1</td>\n",
       "      <td>2021-03-03 10:00:17</td>\n",
       "      <td>2641597</td>\n",
       "      <td>39131</td>\n",
       "      <td>441</td>\n",
       "      <td>3745</td>\n",
       "      <td>PRODUCE101JAPAN              JO1   TheSTAR STA...</td>\n",
       "      <td>JO1'YOUNG (JO1 ver.)' PERFORMANCE VIDEO\\n\\n---...</td>\n",
       "      <td>youngVer&gt;&lt;  REN is really PERFECT. It's not ju...</td>\n",
       "    </tr>\n",
       "    <tr>\n",
       "      <th>4</th>\n",
       "      <td>--DKkzWVh-E</td>\n",
       "      <td>Why Retaining Walls Collapse</td>\n",
       "      <td>UCMOqf8ab-42UUQIdVoKwjlQ</td>\n",
       "      <td>Practical Engineering</td>\n",
       "      <td>2021-12-07 13:00:00</td>\n",
       "      <td>715724</td>\n",
       "      <td>32887</td>\n",
       "      <td>367</td>\n",
       "      <td>1067</td>\n",
       "      <td>retaining wall New Jersey highway Direct Conne...</td>\n",
       "      <td>One of the most important (and innocuous) part...</td>\n",
       "      <td>Keep up with all my projects here: https://pr...</td>\n",
       "    </tr>\n",
       "  </tbody>\n",
       "</table>\n",
       "</div>"
      ],
      "text/plain": [
       "      video_id                                       title  \\\n",
       "0  --0bCF-iK2E        Jadon Sancho  Magical Skills & Goals   \n",
       "1  --14w5SOEUs          Migos - Avalanche (Official Video)   \n",
       "2  --40TEbZ9Is  Supporting Actress in a Comedy: 73rd Emmys   \n",
       "3  --4tfbSyYDE     JO1'YOUNG (JO1 ver.)' PERFORMANCE VIDEO   \n",
       "4  --DKkzWVh-E                Why Retaining Walls Collapse   \n",
       "\n",
       "                 channel_id          channel_title         published_at  \\\n",
       "0  UC6UL29enLNe4mqwTfAyeNuw             Bundesliga  2021-07-01 10:00:00   \n",
       "1  UCGIelM2Dj3zza3xyV3pL3WQ              MigosVEVO  2021-06-10 16:00:00   \n",
       "2  UClBKH8yZRcM4AsRjDVEdjMg     Television Academy  2021-09-20 01:03:32   \n",
       "3  UCsmXiDP8S40uBeJYxvyulmA                    JO1  2021-03-03 10:00:17   \n",
       "4  UCMOqf8ab-42UUQIdVoKwjlQ  Practical Engineering  2021-12-07 13:00:00   \n",
       "\n",
       "   view_count   likes  dislikes  comment_count  \\\n",
       "0     1048888   19515       226           1319   \n",
       "1    15352638  359277      7479          18729   \n",
       "2      925281   11212       401            831   \n",
       "3     2641597   39131       441           3745   \n",
       "4      715724   32887       367           1067   \n",
       "\n",
       "                                                tags  \\\n",
       "0  football soccer ftbol alemn Bundesliga season ...   \n",
       "1  Migos Avalanche Quality Control Music/Motown R...   \n",
       "2                                                      \n",
       "3  PRODUCE101JAPAN              JO1   TheSTAR STA...   \n",
       "4  retaining wall New Jersey highway Direct Conne...   \n",
       "\n",
       "                                         description  \\\n",
       "0  Enjoy the best skills and goals from Jadon San...   \n",
       "1  Watch the the official video for Migos - \"Aval...   \n",
       "2  Hannah Waddingham wins the Emmy for Supporting...   \n",
       "3  JO1'YOUNG (JO1 ver.)' PERFORMANCE VIDEO\\n\\n---...   \n",
       "4  One of the most important (and innocuous) part...   \n",
       "\n",
       "                                            comments  \n",
       "0  Respect to Dortmund fans,must be sad losing hi...  \n",
       "1  Migos just makes me want to live my live to th...  \n",
       "2  Hannah's energy bursts through any screen. Wel...  \n",
       "3  youngVer><  REN is really PERFECT. It's not ju...  \n",
       "4   Keep up with all my projects here: https://pr...  "
      ]
     },
     "execution_count": 3,
     "metadata": {},
     "output_type": "execute_result"
    }
   ],
   "source": [
    "# Retrieveing Top 5 Records...\n",
    "\n",
    "df.head(5)"
   ]
  },
  {
   "cell_type": "code",
   "execution_count": 4,
   "id": "0c60c298",
   "metadata": {
    "ExecuteTime": {
     "end_time": "2024-01-27T11:36:52.325165Z",
     "start_time": "2024-01-27T11:36:52.309889Z"
    },
    "scrolled": true
   },
   "outputs": [
    {
     "data": {
      "text/html": [
       "<div>\n",
       "<style scoped>\n",
       "    .dataframe tbody tr th:only-of-type {\n",
       "        vertical-align: middle;\n",
       "    }\n",
       "\n",
       "    .dataframe tbody tr th {\n",
       "        vertical-align: top;\n",
       "    }\n",
       "\n",
       "    .dataframe thead th {\n",
       "        text-align: right;\n",
       "    }\n",
       "</style>\n",
       "<table border=\"1\" class=\"dataframe\">\n",
       "  <thead>\n",
       "    <tr style=\"text-align: right;\">\n",
       "      <th></th>\n",
       "      <th>video_id</th>\n",
       "      <th>title</th>\n",
       "      <th>channel_id</th>\n",
       "      <th>channel_title</th>\n",
       "      <th>published_at</th>\n",
       "      <th>view_count</th>\n",
       "      <th>likes</th>\n",
       "      <th>dislikes</th>\n",
       "      <th>comment_count</th>\n",
       "      <th>tags</th>\n",
       "      <th>description</th>\n",
       "      <th>comments</th>\n",
       "    </tr>\n",
       "  </thead>\n",
       "  <tbody>\n",
       "    <tr>\n",
       "      <th>37417</th>\n",
       "      <td>zzd4ydafGR0</td>\n",
       "      <td>Lil Tjay - Calling My Phone (feat. 6LACK) [Off...</td>\n",
       "      <td>UCEB4a5o_6KfjxHwNMnmj54Q</td>\n",
       "      <td>Lil Tjay</td>\n",
       "      <td>2021-02-12 05:03:49</td>\n",
       "      <td>120408275</td>\n",
       "      <td>2180780</td>\n",
       "      <td>35871</td>\n",
       "      <td>81360</td>\n",
       "      <td>Lil Tjay Steady Calling My Phone Calling My Ph...</td>\n",
       "      <td>Official video for \"Calling My Phone\" by Lil T...</td>\n",
       "      <td>'DESTINED 2 WIN' OUT NOW !! https://liltjay.ln...</td>\n",
       "    </tr>\n",
       "    <tr>\n",
       "      <th>37418</th>\n",
       "      <td>zziBybeSAtw</td>\n",
       "      <td>PELICANS at LAKERS | FULL GAME HIGHLIGHTS | Ja...</td>\n",
       "      <td>UCWJ2lWNubArHWmf3FIHbfcQ</td>\n",
       "      <td>NBA</td>\n",
       "      <td>2021-01-16 05:39:05</td>\n",
       "      <td>2841917</td>\n",
       "      <td>20759</td>\n",
       "      <td>1049</td>\n",
       "      <td>2624</td>\n",
       "      <td>NBA G League Basketball game-0022000187 Lakers...</td>\n",
       "      <td>PELICANS at LAKERS | FULL GAME HIGHLIGHTS | Ja...</td>\n",
       "      <td>Montrezl Harrell is going crazy with the rebou...</td>\n",
       "    </tr>\n",
       "    <tr>\n",
       "      <th>37419</th>\n",
       "      <td>zzk09ESX7e0</td>\n",
       "      <td>[MV]  (MAMAMOO) - Where Are We Now</td>\n",
       "      <td>UCuhAUMLzJxlP1W7mEk0_6lA</td>\n",
       "      <td>MAMAMOO</td>\n",
       "      <td>2021-06-02 09:00:10</td>\n",
       "      <td>13346678</td>\n",
       "      <td>720854</td>\n",
       "      <td>4426</td>\n",
       "      <td>90616</td>\n",
       "      <td>MAMAMOO  WAW  WAW MAMAMOO WAW Where Are We Now...</td>\n",
       "      <td>[MV]  (MAMAMOO) - Where Are We Now\\n\\nInstagra...</td>\n",
       "      <td>I honestly do not know why this song hit so ha...</td>\n",
       "    </tr>\n",
       "    <tr>\n",
       "      <th>37420</th>\n",
       "      <td>zzmQEb0Em5I</td>\n",
       "      <td>FELLIPE ESCUDERO- Master Podcast  #12</td>\n",
       "      <td>UC8NjnNWMsRqq11NYvHAQb1g</td>\n",
       "      <td>Master Podcast</td>\n",
       "      <td>2020-10-20 20:59:30</td>\n",
       "      <td>252057</td>\n",
       "      <td>19198</td>\n",
       "      <td>1234</td>\n",
       "      <td>1471</td>\n",
       "      <td>master masterpodcast lord lord vinheteiro z z ...</td>\n",
       "      <td>DOCTOR HAIR\\nhttps://www.thedoctorhair.com/?fb...</td>\n",
       "      <td>Foi um prazer passar esta tarde com vocs debat...</td>\n",
       "    </tr>\n",
       "    <tr>\n",
       "      <th>37421</th>\n",
       "      <td>zzxPZwaA-8w</td>\n",
       "      <td>Gareth Bale brace secures dramatic comeback on...</td>\n",
       "      <td>UCEg25rdRZXg32iwai6N6l0w</td>\n",
       "      <td>Tottenham Hotspur</td>\n",
       "      <td>2021-05-23 21:00:31</td>\n",
       "      <td>2252090</td>\n",
       "      <td>34063</td>\n",
       "      <td>868</td>\n",
       "      <td>2004</td>\n",
       "      <td>Spurs Tottenham Hotspur   Tottenham Leicester ...</td>\n",
       "      <td>Two minute highlights from Tottenham Hotspur's...</td>\n",
       "      <td>Thank you Kane for everything you have given t...</td>\n",
       "    </tr>\n",
       "  </tbody>\n",
       "</table>\n",
       "</div>"
      ],
      "text/plain": [
       "          video_id                                              title  \\\n",
       "37417  zzd4ydafGR0  Lil Tjay - Calling My Phone (feat. 6LACK) [Off...   \n",
       "37418  zziBybeSAtw  PELICANS at LAKERS | FULL GAME HIGHLIGHTS | Ja...   \n",
       "37419  zzk09ESX7e0                 [MV]  (MAMAMOO) - Where Are We Now   \n",
       "37420  zzmQEb0Em5I              FELLIPE ESCUDERO- Master Podcast  #12   \n",
       "37421  zzxPZwaA-8w  Gareth Bale brace secures dramatic comeback on...   \n",
       "\n",
       "                     channel_id      channel_title         published_at  \\\n",
       "37417  UCEB4a5o_6KfjxHwNMnmj54Q           Lil Tjay  2021-02-12 05:03:49   \n",
       "37418  UCWJ2lWNubArHWmf3FIHbfcQ                NBA  2021-01-16 05:39:05   \n",
       "37419  UCuhAUMLzJxlP1W7mEk0_6lA            MAMAMOO  2021-06-02 09:00:10   \n",
       "37420  UC8NjnNWMsRqq11NYvHAQb1g     Master Podcast  2020-10-20 20:59:30   \n",
       "37421  UCEg25rdRZXg32iwai6N6l0w  Tottenham Hotspur  2021-05-23 21:00:31   \n",
       "\n",
       "       view_count    likes  dislikes  comment_count  \\\n",
       "37417   120408275  2180780     35871          81360   \n",
       "37418     2841917    20759      1049           2624   \n",
       "37419    13346678   720854      4426          90616   \n",
       "37420      252057    19198      1234           1471   \n",
       "37421     2252090    34063       868           2004   \n",
       "\n",
       "                                                    tags  \\\n",
       "37417  Lil Tjay Steady Calling My Phone Calling My Ph...   \n",
       "37418  NBA G League Basketball game-0022000187 Lakers...   \n",
       "37419  MAMAMOO  WAW  WAW MAMAMOO WAW Where Are We Now...   \n",
       "37420  master masterpodcast lord lord vinheteiro z z ...   \n",
       "37421  Spurs Tottenham Hotspur   Tottenham Leicester ...   \n",
       "\n",
       "                                             description  \\\n",
       "37417  Official video for \"Calling My Phone\" by Lil T...   \n",
       "37418  PELICANS at LAKERS | FULL GAME HIGHLIGHTS | Ja...   \n",
       "37419  [MV]  (MAMAMOO) - Where Are We Now\\n\\nInstagra...   \n",
       "37420  DOCTOR HAIR\\nhttps://www.thedoctorhair.com/?fb...   \n",
       "37421  Two minute highlights from Tottenham Hotspur's...   \n",
       "\n",
       "                                                comments  \n",
       "37417  'DESTINED 2 WIN' OUT NOW !! https://liltjay.ln...  \n",
       "37418  Montrezl Harrell is going crazy with the rebou...  \n",
       "37419  I honestly do not know why this song hit so ha...  \n",
       "37420  Foi um prazer passar esta tarde com vocs debat...  \n",
       "37421  Thank you Kane for everything you have given t...  "
      ]
     },
     "execution_count": 4,
     "metadata": {},
     "output_type": "execute_result"
    }
   ],
   "source": [
    "# Retreieveing Bottom 5 Records ...\n",
    "\n",
    "df.tail(5)"
   ]
  },
  {
   "cell_type": "markdown",
   "id": "48aed581",
   "metadata": {},
   "source": [
    "# Q2. Check the info of the dataframe and write your inferences on data types and shape of the dataset..."
   ]
  },
  {
   "cell_type": "code",
   "execution_count": 5,
   "id": "5872a5e8",
   "metadata": {
    "ExecuteTime": {
     "end_time": "2024-01-27T11:36:59.034829Z",
     "start_time": "2024-01-27T11:36:59.000516Z"
    },
    "scrolled": true
   },
   "outputs": [
    {
     "name": "stdout",
     "output_type": "stream",
     "text": [
      "<class 'pandas.core.frame.DataFrame'>\n",
      "RangeIndex: 37422 entries, 0 to 37421\n",
      "Data columns (total 12 columns):\n",
      " #   Column         Non-Null Count  Dtype \n",
      "---  ------         --------------  ----- \n",
      " 0   video_id       37422 non-null  object\n",
      " 1   title          37422 non-null  object\n",
      " 2   channel_id     37422 non-null  object\n",
      " 3   channel_title  37422 non-null  object\n",
      " 4   published_at   37422 non-null  object\n",
      " 5   view_count     37422 non-null  int64 \n",
      " 6   likes          37422 non-null  int64 \n",
      " 7   dislikes       37422 non-null  int64 \n",
      " 8   comment_count  37422 non-null  int64 \n",
      " 9   tags           37422 non-null  object\n",
      " 10  description    37422 non-null  object\n",
      " 11  comments       37264 non-null  object\n",
      "dtypes: int64(4), object(8)\n",
      "memory usage: 3.4+ MB\n"
     ]
    }
   ],
   "source": [
    "# Checking the information of the imported dataset..\n",
    "\n",
    "df.info()"
   ]
  },
  {
   "cell_type": "code",
   "execution_count": 6,
   "id": "5c261fd0",
   "metadata": {
    "ExecuteTime": {
     "end_time": "2024-01-27T11:37:01.702580Z",
     "start_time": "2024-01-27T11:37:01.696419Z"
    }
   },
   "outputs": [
    {
     "data": {
      "text/plain": [
       "(37422, 12)"
      ]
     },
     "execution_count": 6,
     "metadata": {},
     "output_type": "execute_result"
    }
   ],
   "source": [
    "# Checking for the number of rows and columns in dataset using Shape function...\n",
    "df.shape"
   ]
  },
  {
   "cell_type": "markdown",
   "id": "0007325e",
   "metadata": {},
   "source": [
    "### Q2) *Inferences....*"
   ]
  },
  {
   "cell_type": "raw",
   "id": "5b1812ee",
   "metadata": {},
   "source": [
    "> After checking information about DataFrame by using df.info() function....\n",
    "\n",
    "> My Inference is There are Total \"12-Columns\" and Total \"37422-Entries\" which means there are Total \"37422-Rows\" in Dataset...\n",
    "\n",
    "> From '12_Columns' there are '4_columns' whose Data is of Integer Type and '8_columns' whose Data is of Object Type including     \"published_at\"-column which is actually should be  datetime datatype...\n",
    "\n",
    "> There is one Column \"comments\" in dataset in which 'null values' are present...Rest of all columns dont have null_values in     it..."
   ]
  },
  {
   "cell_type": "markdown",
   "id": "560e1d45",
   "metadata": {},
   "source": [
    "# Q3. Check for the Percentage of the missing values and drop or impute them."
   ]
  },
  {
   "cell_type": "code",
   "execution_count": 7,
   "id": "aa482774",
   "metadata": {
    "ExecuteTime": {
     "end_time": "2024-01-27T11:37:06.139404Z",
     "start_time": "2024-01-27T11:37:06.110429Z"
    },
    "scrolled": true
   },
   "outputs": [
    {
     "data": {
      "text/plain": [
       "video_id         0.000000\n",
       "title            0.000000\n",
       "channel_id       0.000000\n",
       "channel_title    0.000000\n",
       "published_at     0.000000\n",
       "view_count       0.000000\n",
       "likes            0.000000\n",
       "dislikes         0.000000\n",
       "comment_count    0.000000\n",
       "tags             0.000000\n",
       "description      0.000000\n",
       "comments         0.422212\n",
       "dtype: float64"
      ]
     },
     "execution_count": 7,
     "metadata": {},
     "output_type": "execute_result"
    }
   ],
   "source": [
    "# Finding missing values in percentage...And the percentage of missing values is less than threshold 5%....\n",
    "\n",
    "df.isnull().mean() * 100"
   ]
  },
  {
   "cell_type": "code",
   "execution_count": 8,
   "id": "efacb078",
   "metadata": {
    "ExecuteTime": {
     "end_time": "2024-01-27T11:37:07.549135Z",
     "start_time": "2024-01-27T11:37:07.521314Z"
    }
   },
   "outputs": [
    {
     "data": {
      "text/plain": [
       "video_id           0\n",
       "title              0\n",
       "channel_id         0\n",
       "channel_title      0\n",
       "published_at       0\n",
       "view_count         0\n",
       "likes              0\n",
       "dislikes           0\n",
       "comment_count      0\n",
       "tags               0\n",
       "description        0\n",
       "comments         158\n",
       "dtype: int64"
      ]
     },
     "execution_count": 8,
     "metadata": {},
     "output_type": "execute_result"
    }
   ],
   "source": [
    "# Finding the sum of null values in each column\n",
    "\n",
    "df.isnull().sum()"
   ]
  },
  {
   "cell_type": "code",
   "execution_count": 9,
   "id": "b30e9efa",
   "metadata": {
    "ExecuteTime": {
     "end_time": "2024-01-27T11:37:10.429125Z",
     "start_time": "2024-01-27T11:37:10.390603Z"
    }
   },
   "outputs": [],
   "source": [
    "# Deleting the null values present in dataset...permanently by using inplace....\n",
    "\n",
    "df.dropna(inplace=True) "
   ]
  },
  {
   "cell_type": "code",
   "execution_count": 10,
   "id": "fcc2cb87",
   "metadata": {
    "ExecuteTime": {
     "end_time": "2024-01-27T11:37:11.507531Z",
     "start_time": "2024-01-27T11:37:11.495508Z"
    }
   },
   "outputs": [
    {
     "data": {
      "text/plain": [
       "0"
      ]
     },
     "execution_count": 10,
     "metadata": {},
     "output_type": "execute_result"
    }
   ],
   "source": [
    "# Reverifying is all null values are deleted from column Comments or not...\n",
    "\n",
    "df['comments'].isnull().sum()"
   ]
  },
  {
   "cell_type": "markdown",
   "id": "1e817f1f",
   "metadata": {},
   "source": [
    "# Q4) Check the statistical summary of both numerical and categorical columns and write your inferences. "
   ]
  },
  {
   "cell_type": "code",
   "execution_count": 11,
   "id": "d7bd6b69",
   "metadata": {
    "ExecuteTime": {
     "end_time": "2024-01-27T11:37:14.295900Z",
     "start_time": "2024-01-27T11:37:14.259151Z"
    }
   },
   "outputs": [
    {
     "data": {
      "text/html": [
       "<div>\n",
       "<style scoped>\n",
       "    .dataframe tbody tr th:only-of-type {\n",
       "        vertical-align: middle;\n",
       "    }\n",
       "\n",
       "    .dataframe tbody tr th {\n",
       "        vertical-align: top;\n",
       "    }\n",
       "\n",
       "    .dataframe thead th {\n",
       "        text-align: right;\n",
       "    }\n",
       "</style>\n",
       "<table border=\"1\" class=\"dataframe\">\n",
       "  <thead>\n",
       "    <tr style=\"text-align: right;\">\n",
       "      <th></th>\n",
       "      <th>view_count</th>\n",
       "      <th>likes</th>\n",
       "      <th>dislikes</th>\n",
       "      <th>comment_count</th>\n",
       "    </tr>\n",
       "  </thead>\n",
       "  <tbody>\n",
       "    <tr>\n",
       "      <th>count</th>\n",
       "      <td>3.726400e+04</td>\n",
       "      <td>3.726400e+04</td>\n",
       "      <td>3.726400e+04</td>\n",
       "      <td>3.726400e+04</td>\n",
       "    </tr>\n",
       "    <tr>\n",
       "      <th>mean</th>\n",
       "      <td>5.710821e+06</td>\n",
       "      <td>1.672867e+05</td>\n",
       "      <td>4.996434e+03</td>\n",
       "      <td>9.966953e+03</td>\n",
       "    </tr>\n",
       "    <tr>\n",
       "      <th>std</th>\n",
       "      <td>2.431304e+07</td>\n",
       "      <td>5.384931e+05</td>\n",
       "      <td>3.075194e+04</td>\n",
       "      <td>1.173465e+05</td>\n",
       "    </tr>\n",
       "    <tr>\n",
       "      <th>min</th>\n",
       "      <td>2.036800e+04</td>\n",
       "      <td>2.200000e+01</td>\n",
       "      <td>3.000000e+00</td>\n",
       "      <td>1.000000e+00</td>\n",
       "    </tr>\n",
       "    <tr>\n",
       "      <th>25%</th>\n",
       "      <td>5.141305e+05</td>\n",
       "      <td>1.331725e+04</td>\n",
       "      <td>2.827500e+02</td>\n",
       "      <td>9.140000e+02</td>\n",
       "    </tr>\n",
       "    <tr>\n",
       "      <th>50%</th>\n",
       "      <td>1.321860e+06</td>\n",
       "      <td>4.255600e+04</td>\n",
       "      <td>7.980000e+02</td>\n",
       "      <td>2.347000e+03</td>\n",
       "    </tr>\n",
       "    <tr>\n",
       "      <th>75%</th>\n",
       "      <td>3.674527e+06</td>\n",
       "      <td>1.309665e+05</td>\n",
       "      <td>2.466250e+03</td>\n",
       "      <td>6.212000e+03</td>\n",
       "    </tr>\n",
       "    <tr>\n",
       "      <th>max</th>\n",
       "      <td>1.322797e+09</td>\n",
       "      <td>3.183768e+07</td>\n",
       "      <td>2.397733e+06</td>\n",
       "      <td>1.607103e+07</td>\n",
       "    </tr>\n",
       "  </tbody>\n",
       "</table>\n",
       "</div>"
      ],
      "text/plain": [
       "         view_count         likes      dislikes  comment_count\n",
       "count  3.726400e+04  3.726400e+04  3.726400e+04   3.726400e+04\n",
       "mean   5.710821e+06  1.672867e+05  4.996434e+03   9.966953e+03\n",
       "std    2.431304e+07  5.384931e+05  3.075194e+04   1.173465e+05\n",
       "min    2.036800e+04  2.200000e+01  3.000000e+00   1.000000e+00\n",
       "25%    5.141305e+05  1.331725e+04  2.827500e+02   9.140000e+02\n",
       "50%    1.321860e+06  4.255600e+04  7.980000e+02   2.347000e+03\n",
       "75%    3.674527e+06  1.309665e+05  2.466250e+03   6.212000e+03\n",
       "max    1.322797e+09  3.183768e+07  2.397733e+06   1.607103e+07"
      ]
     },
     "execution_count": 11,
     "metadata": {},
     "output_type": "execute_result"
    }
   ],
   "source": [
    "# Statistical summary of Numerical Columns using (Describe) Function..\n",
    "\n",
    "df.describe()"
   ]
  },
  {
   "cell_type": "markdown",
   "id": "5acde118",
   "metadata": {},
   "source": [
    "### *Inference for Numerical Columns Data...*"
   ]
  },
  {
   "cell_type": "raw",
   "id": "a6330531",
   "metadata": {},
   "source": [
    "> The Count of All Four Columns is 37,422\n",
    "\n",
    "> Maximum views for a video is 1,322,797,000\n",
    "\n",
    "> Maximum Likes for a video is 31,837,680\n",
    "\n",
    "> Maximum Dislikes for a video is 2,397,733\n",
    "\n",
    "> Average view for a video is 5,697,838"
   ]
  },
  {
   "cell_type": "code",
   "execution_count": 12,
   "id": "74dc5aca",
   "metadata": {
    "ExecuteTime": {
     "end_time": "2024-01-27T11:37:19.599455Z",
     "start_time": "2024-01-27T11:37:19.380162Z"
    }
   },
   "outputs": [
    {
     "data": {
      "text/html": [
       "<div>\n",
       "<style scoped>\n",
       "    .dataframe tbody tr th:only-of-type {\n",
       "        vertical-align: middle;\n",
       "    }\n",
       "\n",
       "    .dataframe tbody tr th {\n",
       "        vertical-align: top;\n",
       "    }\n",
       "\n",
       "    .dataframe thead th {\n",
       "        text-align: right;\n",
       "    }\n",
       "</style>\n",
       "<table border=\"1\" class=\"dataframe\">\n",
       "  <thead>\n",
       "    <tr style=\"text-align: right;\">\n",
       "      <th></th>\n",
       "      <th>video_id</th>\n",
       "      <th>title</th>\n",
       "      <th>channel_id</th>\n",
       "      <th>channel_title</th>\n",
       "      <th>published_at</th>\n",
       "      <th>tags</th>\n",
       "      <th>description</th>\n",
       "      <th>comments</th>\n",
       "    </tr>\n",
       "  </thead>\n",
       "  <tbody>\n",
       "    <tr>\n",
       "      <th>count</th>\n",
       "      <td>37264</td>\n",
       "      <td>37264</td>\n",
       "      <td>37264</td>\n",
       "      <td>37264</td>\n",
       "      <td>37264</td>\n",
       "      <td>37264</td>\n",
       "      <td>37264</td>\n",
       "      <td>37264</td>\n",
       "    </tr>\n",
       "    <tr>\n",
       "      <th>unique</th>\n",
       "      <td>37264</td>\n",
       "      <td>36958</td>\n",
       "      <td>10891</td>\n",
       "      <td>10813</td>\n",
       "      <td>36617</td>\n",
       "      <td>28705</td>\n",
       "      <td>35479</td>\n",
       "      <td>37264</td>\n",
       "    </tr>\n",
       "    <tr>\n",
       "      <th>top</th>\n",
       "      <td>--0bCF-iK2E</td>\n",
       "      <td>www</td>\n",
       "      <td>UCNAf1k0yIjyGu3k9BwAg3lg</td>\n",
       "      <td>Sky Sports Football</td>\n",
       "      <td>2020-10-16 04:00:10</td>\n",
       "      <td></td>\n",
       "      <td></td>\n",
       "      <td>Respect to Dortmund fans,must be sad losing hi...</td>\n",
       "    </tr>\n",
       "    <tr>\n",
       "      <th>freq</th>\n",
       "      <td>1</td>\n",
       "      <td>21</td>\n",
       "      <td>533</td>\n",
       "      <td>533</td>\n",
       "      <td>6</td>\n",
       "      <td>3808</td>\n",
       "      <td>587</td>\n",
       "      <td>1</td>\n",
       "    </tr>\n",
       "  </tbody>\n",
       "</table>\n",
       "</div>"
      ],
      "text/plain": [
       "           video_id  title                channel_id        channel_title  \\\n",
       "count         37264  37264                     37264                37264   \n",
       "unique        37264  36958                     10891                10813   \n",
       "top     --0bCF-iK2E    www  UCNAf1k0yIjyGu3k9BwAg3lg  Sky Sports Football   \n",
       "freq              1     21                       533                  533   \n",
       "\n",
       "               published_at   tags description  \\\n",
       "count                 37264  37264       37264   \n",
       "unique                36617  28705       35479   \n",
       "top     2020-10-16 04:00:10                      \n",
       "freq                      6   3808         587   \n",
       "\n",
       "                                                 comments  \n",
       "count                                               37264  \n",
       "unique                                              37264  \n",
       "top     Respect to Dortmund fans,must be sad losing hi...  \n",
       "freq                                                    1  "
      ]
     },
     "execution_count": 12,
     "metadata": {},
     "output_type": "execute_result"
    }
   ],
   "source": [
    "# Statistical summary of Categorical Columns using (Describe) Function..\n",
    "\n",
    "df.describe(include = 'object')"
   ]
  },
  {
   "cell_type": "markdown",
   "id": "e94b2f39",
   "metadata": {},
   "source": [
    "### *Inference for Categorical Columns Data..*"
   ]
  },
  {
   "cell_type": "raw",
   "id": "028d47e5",
   "metadata": {},
   "source": [
    "> The Total Count of rows of all columns[video_id, title, channel_id, channel_title, _published_at, tags, description, comments]   is 37422.....\n",
    "\n",
    "> Only in 'video_id' column all values are unique.."
   ]
  },
  {
   "cell_type": "markdown",
   "id": "f7bf667e",
   "metadata": {
    "ExecuteTime": {
     "end_time": "2024-01-22T10:01:16.705237Z",
     "start_time": "2024-01-22T10:01:16.700566Z"
    }
   },
   "source": [
    "# Q5) . Convert datatype of column published_at from object to pandas datetime. "
   ]
  },
  {
   "cell_type": "code",
   "execution_count": 13,
   "id": "55cf7bef",
   "metadata": {
    "ExecuteTime": {
     "end_time": "2024-01-27T11:37:25.184603Z",
     "start_time": "2024-01-27T11:37:25.132928Z"
    }
   },
   "outputs": [
    {
     "data": {
      "text/html": [
       "<div>\n",
       "<style scoped>\n",
       "    .dataframe tbody tr th:only-of-type {\n",
       "        vertical-align: middle;\n",
       "    }\n",
       "\n",
       "    .dataframe tbody tr th {\n",
       "        vertical-align: top;\n",
       "    }\n",
       "\n",
       "    .dataframe thead th {\n",
       "        text-align: right;\n",
       "    }\n",
       "</style>\n",
       "<table border=\"1\" class=\"dataframe\">\n",
       "  <thead>\n",
       "    <tr style=\"text-align: right;\">\n",
       "      <th></th>\n",
       "      <th>published_at</th>\n",
       "    </tr>\n",
       "  </thead>\n",
       "  <tbody>\n",
       "    <tr>\n",
       "      <th>0</th>\n",
       "      <td>2021-07-01 10:00:00</td>\n",
       "    </tr>\n",
       "    <tr>\n",
       "      <th>1</th>\n",
       "      <td>2021-06-10 16:00:00</td>\n",
       "    </tr>\n",
       "    <tr>\n",
       "      <th>2</th>\n",
       "      <td>2021-09-20 01:03:32</td>\n",
       "    </tr>\n",
       "    <tr>\n",
       "      <th>3</th>\n",
       "      <td>2021-03-03 10:00:17</td>\n",
       "    </tr>\n",
       "    <tr>\n",
       "      <th>4</th>\n",
       "      <td>2021-12-07 13:00:00</td>\n",
       "    </tr>\n",
       "    <tr>\n",
       "      <th>...</th>\n",
       "      <td>...</td>\n",
       "    </tr>\n",
       "    <tr>\n",
       "      <th>37417</th>\n",
       "      <td>2021-02-12 05:03:49</td>\n",
       "    </tr>\n",
       "    <tr>\n",
       "      <th>37418</th>\n",
       "      <td>2021-01-16 05:39:05</td>\n",
       "    </tr>\n",
       "    <tr>\n",
       "      <th>37419</th>\n",
       "      <td>2021-06-02 09:00:10</td>\n",
       "    </tr>\n",
       "    <tr>\n",
       "      <th>37420</th>\n",
       "      <td>2020-10-20 20:59:30</td>\n",
       "    </tr>\n",
       "    <tr>\n",
       "      <th>37421</th>\n",
       "      <td>2021-05-23 21:00:31</td>\n",
       "    </tr>\n",
       "  </tbody>\n",
       "</table>\n",
       "<p>37264 rows × 1 columns</p>\n",
       "</div>"
      ],
      "text/plain": [
       "             published_at\n",
       "0     2021-07-01 10:00:00\n",
       "1     2021-06-10 16:00:00\n",
       "2     2021-09-20 01:03:32\n",
       "3     2021-03-03 10:00:17\n",
       "4     2021-12-07 13:00:00\n",
       "...                   ...\n",
       "37417 2021-02-12 05:03:49\n",
       "37418 2021-01-16 05:39:05\n",
       "37419 2021-06-02 09:00:10\n",
       "37420 2020-10-20 20:59:30\n",
       "37421 2021-05-23 21:00:31\n",
       "\n",
       "[37264 rows x 1 columns]"
      ]
     },
     "execution_count": 13,
     "metadata": {},
     "output_type": "execute_result"
    }
   ],
   "source": [
    "# Converting published_at column which is in object datatype into pandas datetime datatype...\n",
    "\n",
    "pd.DataFrame(pd.to_datetime(df['published_at']))\n",
    "\n"
   ]
  },
  {
   "cell_type": "code",
   "execution_count": 47,
   "id": "b13caca3",
   "metadata": {
    "ExecuteTime": {
     "end_time": "2024-01-27T06:21:09.492917Z",
     "start_time": "2024-01-27T06:21:09.485342Z"
    }
   },
   "outputs": [
    {
     "data": {
      "text/plain": [
       "video_id                    object\n",
       "title                       object\n",
       "channel_id                  object\n",
       "channel_title               object\n",
       "published_at        datetime64[ns]\n",
       "view_count                   int64\n",
       "likes                        int64\n",
       "dislikes                     int64\n",
       "comment_count                int64\n",
       "tags                        object\n",
       "description                 object\n",
       "comments                    object\n",
       "published_months            object\n",
       "published_month              int32\n",
       "dislikes rate              float64\n",
       "dtype: object"
      ]
     },
     "execution_count": 47,
     "metadata": {},
     "output_type": "execute_result"
    }
   ],
   "source": [
    "# Verifying whether Object Datatype coverted into datetime dattype or not...\n",
    "\n",
    "df.dtypes"
   ]
  },
  {
   "cell_type": "markdown",
   "id": "5801eb47",
   "metadata": {},
   "source": [
    "# Q6. Create a new column as 'published_month' using the column published_at (display the months only)"
   ]
  },
  {
   "cell_type": "code",
   "execution_count": 8,
   "id": "65d14345",
   "metadata": {
    "ExecuteTime": {
     "end_time": "2024-01-27T17:44:38.062366Z",
     "start_time": "2024-01-27T17:44:38.026388Z"
    }
   },
   "outputs": [
    {
     "data": {
      "text/html": [
       "<div>\n",
       "<style scoped>\n",
       "    .dataframe tbody tr th:only-of-type {\n",
       "        vertical-align: middle;\n",
       "    }\n",
       "\n",
       "    .dataframe tbody tr th {\n",
       "        vertical-align: top;\n",
       "    }\n",
       "\n",
       "    .dataframe thead th {\n",
       "        text-align: right;\n",
       "    }\n",
       "</style>\n",
       "<table border=\"1\" class=\"dataframe\">\n",
       "  <thead>\n",
       "    <tr style=\"text-align: right;\">\n",
       "      <th></th>\n",
       "      <th>video_id</th>\n",
       "      <th>title</th>\n",
       "      <th>channel_id</th>\n",
       "      <th>channel_title</th>\n",
       "      <th>published_at</th>\n",
       "      <th>view_count</th>\n",
       "      <th>likes</th>\n",
       "      <th>dislikes</th>\n",
       "      <th>comment_count</th>\n",
       "      <th>tags</th>\n",
       "      <th>description</th>\n",
       "      <th>comments</th>\n",
       "      <th>published_months</th>\n",
       "      <th>published_month</th>\n",
       "    </tr>\n",
       "  </thead>\n",
       "  <tbody>\n",
       "    <tr>\n",
       "      <th>0</th>\n",
       "      <td>--0bCF-iK2E</td>\n",
       "      <td>Jadon Sancho  Magical Skills &amp; Goals</td>\n",
       "      <td>UC6UL29enLNe4mqwTfAyeNuw</td>\n",
       "      <td>Bundesliga</td>\n",
       "      <td>2021-07-01 10:00:00</td>\n",
       "      <td>1048888</td>\n",
       "      <td>19515</td>\n",
       "      <td>226</td>\n",
       "      <td>1319</td>\n",
       "      <td>football soccer ftbol alemn Bundesliga season ...</td>\n",
       "      <td>Enjoy the best skills and goals from Jadon San...</td>\n",
       "      <td>Respect to Dortmund fans,must be sad losing hi...</td>\n",
       "      <td>Jul</td>\n",
       "      <td>7</td>\n",
       "    </tr>\n",
       "    <tr>\n",
       "      <th>1</th>\n",
       "      <td>--14w5SOEUs</td>\n",
       "      <td>Migos - Avalanche (Official Video)</td>\n",
       "      <td>UCGIelM2Dj3zza3xyV3pL3WQ</td>\n",
       "      <td>MigosVEVO</td>\n",
       "      <td>2021-06-10 16:00:00</td>\n",
       "      <td>15352638</td>\n",
       "      <td>359277</td>\n",
       "      <td>7479</td>\n",
       "      <td>18729</td>\n",
       "      <td>Migos Avalanche Quality Control Music/Motown R...</td>\n",
       "      <td>Watch the the official video for Migos - \"Aval...</td>\n",
       "      <td>Migos just makes me want to live my live to th...</td>\n",
       "      <td>Jun</td>\n",
       "      <td>6</td>\n",
       "    </tr>\n",
       "    <tr>\n",
       "      <th>2</th>\n",
       "      <td>--40TEbZ9Is</td>\n",
       "      <td>Supporting Actress in a Comedy: 73rd Emmys</td>\n",
       "      <td>UClBKH8yZRcM4AsRjDVEdjMg</td>\n",
       "      <td>Television Academy</td>\n",
       "      <td>2021-09-20 01:03:32</td>\n",
       "      <td>925281</td>\n",
       "      <td>11212</td>\n",
       "      <td>401</td>\n",
       "      <td>831</td>\n",
       "      <td></td>\n",
       "      <td>Hannah Waddingham wins the Emmy for Supporting...</td>\n",
       "      <td>Hannah's energy bursts through any screen. Wel...</td>\n",
       "      <td>Sep</td>\n",
       "      <td>9</td>\n",
       "    </tr>\n",
       "    <tr>\n",
       "      <th>3</th>\n",
       "      <td>--4tfbSyYDE</td>\n",
       "      <td>JO1'YOUNG (JO1 ver.)' PERFORMANCE VIDEO</td>\n",
       "      <td>UCsmXiDP8S40uBeJYxvyulmA</td>\n",
       "      <td>JO1</td>\n",
       "      <td>2021-03-03 10:00:17</td>\n",
       "      <td>2641597</td>\n",
       "      <td>39131</td>\n",
       "      <td>441</td>\n",
       "      <td>3745</td>\n",
       "      <td>PRODUCE101JAPAN              JO1   TheSTAR STA...</td>\n",
       "      <td>JO1'YOUNG (JO1 ver.)' PERFORMANCE VIDEO\\n\\n---...</td>\n",
       "      <td>youngVer&gt;&lt;  REN is really PERFECT. It's not ju...</td>\n",
       "      <td>Mar</td>\n",
       "      <td>3</td>\n",
       "    </tr>\n",
       "    <tr>\n",
       "      <th>4</th>\n",
       "      <td>--DKkzWVh-E</td>\n",
       "      <td>Why Retaining Walls Collapse</td>\n",
       "      <td>UCMOqf8ab-42UUQIdVoKwjlQ</td>\n",
       "      <td>Practical Engineering</td>\n",
       "      <td>2021-12-07 13:00:00</td>\n",
       "      <td>715724</td>\n",
       "      <td>32887</td>\n",
       "      <td>367</td>\n",
       "      <td>1067</td>\n",
       "      <td>retaining wall New Jersey highway Direct Conne...</td>\n",
       "      <td>One of the most important (and innocuous) part...</td>\n",
       "      <td>Keep up with all my projects here: https://pr...</td>\n",
       "      <td>Dec</td>\n",
       "      <td>12</td>\n",
       "    </tr>\n",
       "    <tr>\n",
       "      <th>...</th>\n",
       "      <td>...</td>\n",
       "      <td>...</td>\n",
       "      <td>...</td>\n",
       "      <td>...</td>\n",
       "      <td>...</td>\n",
       "      <td>...</td>\n",
       "      <td>...</td>\n",
       "      <td>...</td>\n",
       "      <td>...</td>\n",
       "      <td>...</td>\n",
       "      <td>...</td>\n",
       "      <td>...</td>\n",
       "      <td>...</td>\n",
       "      <td>...</td>\n",
       "    </tr>\n",
       "    <tr>\n",
       "      <th>37417</th>\n",
       "      <td>zzd4ydafGR0</td>\n",
       "      <td>Lil Tjay - Calling My Phone (feat. 6LACK) [Off...</td>\n",
       "      <td>UCEB4a5o_6KfjxHwNMnmj54Q</td>\n",
       "      <td>Lil Tjay</td>\n",
       "      <td>2021-02-12 05:03:49</td>\n",
       "      <td>120408275</td>\n",
       "      <td>2180780</td>\n",
       "      <td>35871</td>\n",
       "      <td>81360</td>\n",
       "      <td>Lil Tjay Steady Calling My Phone Calling My Ph...</td>\n",
       "      <td>Official video for \"Calling My Phone\" by Lil T...</td>\n",
       "      <td>'DESTINED 2 WIN' OUT NOW !! https://liltjay.ln...</td>\n",
       "      <td>Feb</td>\n",
       "      <td>2</td>\n",
       "    </tr>\n",
       "    <tr>\n",
       "      <th>37418</th>\n",
       "      <td>zziBybeSAtw</td>\n",
       "      <td>PELICANS at LAKERS | FULL GAME HIGHLIGHTS | Ja...</td>\n",
       "      <td>UCWJ2lWNubArHWmf3FIHbfcQ</td>\n",
       "      <td>NBA</td>\n",
       "      <td>2021-01-16 05:39:05</td>\n",
       "      <td>2841917</td>\n",
       "      <td>20759</td>\n",
       "      <td>1049</td>\n",
       "      <td>2624</td>\n",
       "      <td>NBA G League Basketball game-0022000187 Lakers...</td>\n",
       "      <td>PELICANS at LAKERS | FULL GAME HIGHLIGHTS | Ja...</td>\n",
       "      <td>Montrezl Harrell is going crazy with the rebou...</td>\n",
       "      <td>Jan</td>\n",
       "      <td>1</td>\n",
       "    </tr>\n",
       "    <tr>\n",
       "      <th>37419</th>\n",
       "      <td>zzk09ESX7e0</td>\n",
       "      <td>[MV]  (MAMAMOO) - Where Are We Now</td>\n",
       "      <td>UCuhAUMLzJxlP1W7mEk0_6lA</td>\n",
       "      <td>MAMAMOO</td>\n",
       "      <td>2021-06-02 09:00:10</td>\n",
       "      <td>13346678</td>\n",
       "      <td>720854</td>\n",
       "      <td>4426</td>\n",
       "      <td>90616</td>\n",
       "      <td>MAMAMOO  WAW  WAW MAMAMOO WAW Where Are We Now...</td>\n",
       "      <td>[MV]  (MAMAMOO) - Where Are We Now\\n\\nInstagra...</td>\n",
       "      <td>I honestly do not know why this song hit so ha...</td>\n",
       "      <td>Jun</td>\n",
       "      <td>6</td>\n",
       "    </tr>\n",
       "    <tr>\n",
       "      <th>37420</th>\n",
       "      <td>zzmQEb0Em5I</td>\n",
       "      <td>FELLIPE ESCUDERO- Master Podcast  #12</td>\n",
       "      <td>UC8NjnNWMsRqq11NYvHAQb1g</td>\n",
       "      <td>Master Podcast</td>\n",
       "      <td>2020-10-20 20:59:30</td>\n",
       "      <td>252057</td>\n",
       "      <td>19198</td>\n",
       "      <td>1234</td>\n",
       "      <td>1471</td>\n",
       "      <td>master masterpodcast lord lord vinheteiro z z ...</td>\n",
       "      <td>DOCTOR HAIR\\nhttps://www.thedoctorhair.com/?fb...</td>\n",
       "      <td>Foi um prazer passar esta tarde com vocs debat...</td>\n",
       "      <td>Oct</td>\n",
       "      <td>10</td>\n",
       "    </tr>\n",
       "    <tr>\n",
       "      <th>37421</th>\n",
       "      <td>zzxPZwaA-8w</td>\n",
       "      <td>Gareth Bale brace secures dramatic comeback on...</td>\n",
       "      <td>UCEg25rdRZXg32iwai6N6l0w</td>\n",
       "      <td>Tottenham Hotspur</td>\n",
       "      <td>2021-05-23 21:00:31</td>\n",
       "      <td>2252090</td>\n",
       "      <td>34063</td>\n",
       "      <td>868</td>\n",
       "      <td>2004</td>\n",
       "      <td>Spurs Tottenham Hotspur   Tottenham Leicester ...</td>\n",
       "      <td>Two minute highlights from Tottenham Hotspur's...</td>\n",
       "      <td>Thank you Kane for everything you have given t...</td>\n",
       "      <td>May</td>\n",
       "      <td>5</td>\n",
       "    </tr>\n",
       "  </tbody>\n",
       "</table>\n",
       "<p>37422 rows × 14 columns</p>\n",
       "</div>"
      ],
      "text/plain": [
       "          video_id                                              title  \\\n",
       "0      --0bCF-iK2E               Jadon Sancho  Magical Skills & Goals   \n",
       "1      --14w5SOEUs                 Migos - Avalanche (Official Video)   \n",
       "2      --40TEbZ9Is         Supporting Actress in a Comedy: 73rd Emmys   \n",
       "3      --4tfbSyYDE            JO1'YOUNG (JO1 ver.)' PERFORMANCE VIDEO   \n",
       "4      --DKkzWVh-E                       Why Retaining Walls Collapse   \n",
       "...            ...                                                ...   \n",
       "37417  zzd4ydafGR0  Lil Tjay - Calling My Phone (feat. 6LACK) [Off...   \n",
       "37418  zziBybeSAtw  PELICANS at LAKERS | FULL GAME HIGHLIGHTS | Ja...   \n",
       "37419  zzk09ESX7e0                 [MV]  (MAMAMOO) - Where Are We Now   \n",
       "37420  zzmQEb0Em5I              FELLIPE ESCUDERO- Master Podcast  #12   \n",
       "37421  zzxPZwaA-8w  Gareth Bale brace secures dramatic comeback on...   \n",
       "\n",
       "                     channel_id          channel_title        published_at  \\\n",
       "0      UC6UL29enLNe4mqwTfAyeNuw             Bundesliga 2021-07-01 10:00:00   \n",
       "1      UCGIelM2Dj3zza3xyV3pL3WQ              MigosVEVO 2021-06-10 16:00:00   \n",
       "2      UClBKH8yZRcM4AsRjDVEdjMg     Television Academy 2021-09-20 01:03:32   \n",
       "3      UCsmXiDP8S40uBeJYxvyulmA                    JO1 2021-03-03 10:00:17   \n",
       "4      UCMOqf8ab-42UUQIdVoKwjlQ  Practical Engineering 2021-12-07 13:00:00   \n",
       "...                         ...                    ...                 ...   \n",
       "37417  UCEB4a5o_6KfjxHwNMnmj54Q               Lil Tjay 2021-02-12 05:03:49   \n",
       "37418  UCWJ2lWNubArHWmf3FIHbfcQ                    NBA 2021-01-16 05:39:05   \n",
       "37419  UCuhAUMLzJxlP1W7mEk0_6lA                MAMAMOO 2021-06-02 09:00:10   \n",
       "37420  UC8NjnNWMsRqq11NYvHAQb1g         Master Podcast 2020-10-20 20:59:30   \n",
       "37421  UCEg25rdRZXg32iwai6N6l0w      Tottenham Hotspur 2021-05-23 21:00:31   \n",
       "\n",
       "       view_count    likes  dislikes  comment_count  \\\n",
       "0         1048888    19515       226           1319   \n",
       "1        15352638   359277      7479          18729   \n",
       "2          925281    11212       401            831   \n",
       "3         2641597    39131       441           3745   \n",
       "4          715724    32887       367           1067   \n",
       "...           ...      ...       ...            ...   \n",
       "37417   120408275  2180780     35871          81360   \n",
       "37418     2841917    20759      1049           2624   \n",
       "37419    13346678   720854      4426          90616   \n",
       "37420      252057    19198      1234           1471   \n",
       "37421     2252090    34063       868           2004   \n",
       "\n",
       "                                                    tags  \\\n",
       "0      football soccer ftbol alemn Bundesliga season ...   \n",
       "1      Migos Avalanche Quality Control Music/Motown R...   \n",
       "2                                                          \n",
       "3      PRODUCE101JAPAN              JO1   TheSTAR STA...   \n",
       "4      retaining wall New Jersey highway Direct Conne...   \n",
       "...                                                  ...   \n",
       "37417  Lil Tjay Steady Calling My Phone Calling My Ph...   \n",
       "37418  NBA G League Basketball game-0022000187 Lakers...   \n",
       "37419  MAMAMOO  WAW  WAW MAMAMOO WAW Where Are We Now...   \n",
       "37420  master masterpodcast lord lord vinheteiro z z ...   \n",
       "37421  Spurs Tottenham Hotspur   Tottenham Leicester ...   \n",
       "\n",
       "                                             description  \\\n",
       "0      Enjoy the best skills and goals from Jadon San...   \n",
       "1      Watch the the official video for Migos - \"Aval...   \n",
       "2      Hannah Waddingham wins the Emmy for Supporting...   \n",
       "3      JO1'YOUNG (JO1 ver.)' PERFORMANCE VIDEO\\n\\n---...   \n",
       "4      One of the most important (and innocuous) part...   \n",
       "...                                                  ...   \n",
       "37417  Official video for \"Calling My Phone\" by Lil T...   \n",
       "37418  PELICANS at LAKERS | FULL GAME HIGHLIGHTS | Ja...   \n",
       "37419  [MV]  (MAMAMOO) - Where Are We Now\\n\\nInstagra...   \n",
       "37420  DOCTOR HAIR\\nhttps://www.thedoctorhair.com/?fb...   \n",
       "37421  Two minute highlights from Tottenham Hotspur's...   \n",
       "\n",
       "                                                comments published_months  \\\n",
       "0      Respect to Dortmund fans,must be sad losing hi...              Jul   \n",
       "1      Migos just makes me want to live my live to th...              Jun   \n",
       "2      Hannah's energy bursts through any screen. Wel...              Sep   \n",
       "3      youngVer><  REN is really PERFECT. It's not ju...              Mar   \n",
       "4       Keep up with all my projects here: https://pr...              Dec   \n",
       "...                                                  ...              ...   \n",
       "37417  'DESTINED 2 WIN' OUT NOW !! https://liltjay.ln...              Feb   \n",
       "37418  Montrezl Harrell is going crazy with the rebou...              Jan   \n",
       "37419  I honestly do not know why this song hit so ha...              Jun   \n",
       "37420  Foi um prazer passar esta tarde com vocs debat...              Oct   \n",
       "37421  Thank you Kane for everything you have given t...              May   \n",
       "\n",
       "       published_month  \n",
       "0                    7  \n",
       "1                    6  \n",
       "2                    9  \n",
       "3                    3  \n",
       "4                   12  \n",
       "...                ...  \n",
       "37417                2  \n",
       "37418                1  \n",
       "37419                6  \n",
       "37420               10  \n",
       "37421                5  \n",
       "\n",
       "[37422 rows x 14 columns]"
      ]
     },
     "execution_count": 8,
     "metadata": {},
     "output_type": "execute_result"
    }
   ],
   "source": [
    "# Creating New Column (published_month) from (published_at) column and only displaying (published_month) column data\n",
    "\n",
    "df['published_month'] = df['published_at'].dt.month\n",
    "df[['published_month']]\n",
    "df"
   ]
  },
  {
   "cell_type": "markdown",
   "id": "cb259366",
   "metadata": {
    "ExecuteTime": {
     "end_time": "2024-01-22T16:30:27.618080Z",
     "start_time": "2024-01-22T16:30:27.606280Z"
    }
   },
   "source": [
    "# Q7) Replace the numbers in the column published_month as names of the months i,e., 1 as 'Jan', 2 as 'Feb' and so on....."
   ]
  },
  {
   "cell_type": "code",
   "execution_count": 9,
   "id": "05f9a693",
   "metadata": {
    "ExecuteTime": {
     "end_time": "2024-01-27T17:44:44.363586Z",
     "start_time": "2024-01-27T17:44:43.933710Z"
    }
   },
   "outputs": [
    {
     "data": {
      "text/html": [
       "<div>\n",
       "<style scoped>\n",
       "    .dataframe tbody tr th:only-of-type {\n",
       "        vertical-align: middle;\n",
       "    }\n",
       "\n",
       "    .dataframe tbody tr th {\n",
       "        vertical-align: top;\n",
       "    }\n",
       "\n",
       "    .dataframe thead th {\n",
       "        text-align: right;\n",
       "    }\n",
       "</style>\n",
       "<table border=\"1\" class=\"dataframe\">\n",
       "  <thead>\n",
       "    <tr style=\"text-align: right;\">\n",
       "      <th></th>\n",
       "      <th>video_id</th>\n",
       "      <th>title</th>\n",
       "      <th>channel_id</th>\n",
       "      <th>channel_title</th>\n",
       "      <th>published_at</th>\n",
       "      <th>view_count</th>\n",
       "      <th>likes</th>\n",
       "      <th>dislikes</th>\n",
       "      <th>comment_count</th>\n",
       "      <th>tags</th>\n",
       "      <th>description</th>\n",
       "      <th>comments</th>\n",
       "      <th>published_months</th>\n",
       "      <th>published_month</th>\n",
       "    </tr>\n",
       "  </thead>\n",
       "  <tbody>\n",
       "    <tr>\n",
       "      <th>0</th>\n",
       "      <td>--0bCF-iK2E</td>\n",
       "      <td>Jadon Sancho  Magical Skills &amp; Goals</td>\n",
       "      <td>UC6UL29enLNe4mqwTfAyeNuw</td>\n",
       "      <td>Bundesliga</td>\n",
       "      <td>2021-07-01 10:00:00</td>\n",
       "      <td>1048888</td>\n",
       "      <td>19515</td>\n",
       "      <td>226</td>\n",
       "      <td>1319</td>\n",
       "      <td>football soccer ftbol alemn Bundesliga season ...</td>\n",
       "      <td>Enjoy the best skills and goals from Jadon San...</td>\n",
       "      <td>Respect to Dortmund fans,must be sad losing hi...</td>\n",
       "      <td>Jul</td>\n",
       "      <td>7</td>\n",
       "    </tr>\n",
       "    <tr>\n",
       "      <th>1</th>\n",
       "      <td>--14w5SOEUs</td>\n",
       "      <td>Migos - Avalanche (Official Video)</td>\n",
       "      <td>UCGIelM2Dj3zza3xyV3pL3WQ</td>\n",
       "      <td>MigosVEVO</td>\n",
       "      <td>2021-06-10 16:00:00</td>\n",
       "      <td>15352638</td>\n",
       "      <td>359277</td>\n",
       "      <td>7479</td>\n",
       "      <td>18729</td>\n",
       "      <td>Migos Avalanche Quality Control Music/Motown R...</td>\n",
       "      <td>Watch the the official video for Migos - \"Aval...</td>\n",
       "      <td>Migos just makes me want to live my live to th...</td>\n",
       "      <td>Jun</td>\n",
       "      <td>6</td>\n",
       "    </tr>\n",
       "    <tr>\n",
       "      <th>2</th>\n",
       "      <td>--40TEbZ9Is</td>\n",
       "      <td>Supporting Actress in a Comedy: 73rd Emmys</td>\n",
       "      <td>UClBKH8yZRcM4AsRjDVEdjMg</td>\n",
       "      <td>Television Academy</td>\n",
       "      <td>2021-09-20 01:03:32</td>\n",
       "      <td>925281</td>\n",
       "      <td>11212</td>\n",
       "      <td>401</td>\n",
       "      <td>831</td>\n",
       "      <td></td>\n",
       "      <td>Hannah Waddingham wins the Emmy for Supporting...</td>\n",
       "      <td>Hannah's energy bursts through any screen. Wel...</td>\n",
       "      <td>Sep</td>\n",
       "      <td>9</td>\n",
       "    </tr>\n",
       "    <tr>\n",
       "      <th>3</th>\n",
       "      <td>--4tfbSyYDE</td>\n",
       "      <td>JO1'YOUNG (JO1 ver.)' PERFORMANCE VIDEO</td>\n",
       "      <td>UCsmXiDP8S40uBeJYxvyulmA</td>\n",
       "      <td>JO1</td>\n",
       "      <td>2021-03-03 10:00:17</td>\n",
       "      <td>2641597</td>\n",
       "      <td>39131</td>\n",
       "      <td>441</td>\n",
       "      <td>3745</td>\n",
       "      <td>PRODUCE101JAPAN              JO1   TheSTAR STA...</td>\n",
       "      <td>JO1'YOUNG (JO1 ver.)' PERFORMANCE VIDEO\\n\\n---...</td>\n",
       "      <td>youngVer&gt;&lt;  REN is really PERFECT. It's not ju...</td>\n",
       "      <td>Mar</td>\n",
       "      <td>3</td>\n",
       "    </tr>\n",
       "    <tr>\n",
       "      <th>4</th>\n",
       "      <td>--DKkzWVh-E</td>\n",
       "      <td>Why Retaining Walls Collapse</td>\n",
       "      <td>UCMOqf8ab-42UUQIdVoKwjlQ</td>\n",
       "      <td>Practical Engineering</td>\n",
       "      <td>2021-12-07 13:00:00</td>\n",
       "      <td>715724</td>\n",
       "      <td>32887</td>\n",
       "      <td>367</td>\n",
       "      <td>1067</td>\n",
       "      <td>retaining wall New Jersey highway Direct Conne...</td>\n",
       "      <td>One of the most important (and innocuous) part...</td>\n",
       "      <td>Keep up with all my projects here: https://pr...</td>\n",
       "      <td>Dec</td>\n",
       "      <td>12</td>\n",
       "    </tr>\n",
       "    <tr>\n",
       "      <th>...</th>\n",
       "      <td>...</td>\n",
       "      <td>...</td>\n",
       "      <td>...</td>\n",
       "      <td>...</td>\n",
       "      <td>...</td>\n",
       "      <td>...</td>\n",
       "      <td>...</td>\n",
       "      <td>...</td>\n",
       "      <td>...</td>\n",
       "      <td>...</td>\n",
       "      <td>...</td>\n",
       "      <td>...</td>\n",
       "      <td>...</td>\n",
       "      <td>...</td>\n",
       "    </tr>\n",
       "    <tr>\n",
       "      <th>37417</th>\n",
       "      <td>zzd4ydafGR0</td>\n",
       "      <td>Lil Tjay - Calling My Phone (feat. 6LACK) [Off...</td>\n",
       "      <td>UCEB4a5o_6KfjxHwNMnmj54Q</td>\n",
       "      <td>Lil Tjay</td>\n",
       "      <td>2021-02-12 05:03:49</td>\n",
       "      <td>120408275</td>\n",
       "      <td>2180780</td>\n",
       "      <td>35871</td>\n",
       "      <td>81360</td>\n",
       "      <td>Lil Tjay Steady Calling My Phone Calling My Ph...</td>\n",
       "      <td>Official video for \"Calling My Phone\" by Lil T...</td>\n",
       "      <td>'DESTINED 2 WIN' OUT NOW !! https://liltjay.ln...</td>\n",
       "      <td>Feb</td>\n",
       "      <td>2</td>\n",
       "    </tr>\n",
       "    <tr>\n",
       "      <th>37418</th>\n",
       "      <td>zziBybeSAtw</td>\n",
       "      <td>PELICANS at LAKERS | FULL GAME HIGHLIGHTS | Ja...</td>\n",
       "      <td>UCWJ2lWNubArHWmf3FIHbfcQ</td>\n",
       "      <td>NBA</td>\n",
       "      <td>2021-01-16 05:39:05</td>\n",
       "      <td>2841917</td>\n",
       "      <td>20759</td>\n",
       "      <td>1049</td>\n",
       "      <td>2624</td>\n",
       "      <td>NBA G League Basketball game-0022000187 Lakers...</td>\n",
       "      <td>PELICANS at LAKERS | FULL GAME HIGHLIGHTS | Ja...</td>\n",
       "      <td>Montrezl Harrell is going crazy with the rebou...</td>\n",
       "      <td>Jan</td>\n",
       "      <td>1</td>\n",
       "    </tr>\n",
       "    <tr>\n",
       "      <th>37419</th>\n",
       "      <td>zzk09ESX7e0</td>\n",
       "      <td>[MV]  (MAMAMOO) - Where Are We Now</td>\n",
       "      <td>UCuhAUMLzJxlP1W7mEk0_6lA</td>\n",
       "      <td>MAMAMOO</td>\n",
       "      <td>2021-06-02 09:00:10</td>\n",
       "      <td>13346678</td>\n",
       "      <td>720854</td>\n",
       "      <td>4426</td>\n",
       "      <td>90616</td>\n",
       "      <td>MAMAMOO  WAW  WAW MAMAMOO WAW Where Are We Now...</td>\n",
       "      <td>[MV]  (MAMAMOO) - Where Are We Now\\n\\nInstagra...</td>\n",
       "      <td>I honestly do not know why this song hit so ha...</td>\n",
       "      <td>Jun</td>\n",
       "      <td>6</td>\n",
       "    </tr>\n",
       "    <tr>\n",
       "      <th>37420</th>\n",
       "      <td>zzmQEb0Em5I</td>\n",
       "      <td>FELLIPE ESCUDERO- Master Podcast  #12</td>\n",
       "      <td>UC8NjnNWMsRqq11NYvHAQb1g</td>\n",
       "      <td>Master Podcast</td>\n",
       "      <td>2020-10-20 20:59:30</td>\n",
       "      <td>252057</td>\n",
       "      <td>19198</td>\n",
       "      <td>1234</td>\n",
       "      <td>1471</td>\n",
       "      <td>master masterpodcast lord lord vinheteiro z z ...</td>\n",
       "      <td>DOCTOR HAIR\\nhttps://www.thedoctorhair.com/?fb...</td>\n",
       "      <td>Foi um prazer passar esta tarde com vocs debat...</td>\n",
       "      <td>Oct</td>\n",
       "      <td>10</td>\n",
       "    </tr>\n",
       "    <tr>\n",
       "      <th>37421</th>\n",
       "      <td>zzxPZwaA-8w</td>\n",
       "      <td>Gareth Bale brace secures dramatic comeback on...</td>\n",
       "      <td>UCEg25rdRZXg32iwai6N6l0w</td>\n",
       "      <td>Tottenham Hotspur</td>\n",
       "      <td>2021-05-23 21:00:31</td>\n",
       "      <td>2252090</td>\n",
       "      <td>34063</td>\n",
       "      <td>868</td>\n",
       "      <td>2004</td>\n",
       "      <td>Spurs Tottenham Hotspur   Tottenham Leicester ...</td>\n",
       "      <td>Two minute highlights from Tottenham Hotspur's...</td>\n",
       "      <td>Thank you Kane for everything you have given t...</td>\n",
       "      <td>May</td>\n",
       "      <td>5</td>\n",
       "    </tr>\n",
       "  </tbody>\n",
       "</table>\n",
       "<p>37422 rows × 14 columns</p>\n",
       "</div>"
      ],
      "text/plain": [
       "          video_id                                              title  \\\n",
       "0      --0bCF-iK2E               Jadon Sancho  Magical Skills & Goals   \n",
       "1      --14w5SOEUs                 Migos - Avalanche (Official Video)   \n",
       "2      --40TEbZ9Is         Supporting Actress in a Comedy: 73rd Emmys   \n",
       "3      --4tfbSyYDE            JO1'YOUNG (JO1 ver.)' PERFORMANCE VIDEO   \n",
       "4      --DKkzWVh-E                       Why Retaining Walls Collapse   \n",
       "...            ...                                                ...   \n",
       "37417  zzd4ydafGR0  Lil Tjay - Calling My Phone (feat. 6LACK) [Off...   \n",
       "37418  zziBybeSAtw  PELICANS at LAKERS | FULL GAME HIGHLIGHTS | Ja...   \n",
       "37419  zzk09ESX7e0                 [MV]  (MAMAMOO) - Where Are We Now   \n",
       "37420  zzmQEb0Em5I              FELLIPE ESCUDERO- Master Podcast  #12   \n",
       "37421  zzxPZwaA-8w  Gareth Bale brace secures dramatic comeback on...   \n",
       "\n",
       "                     channel_id          channel_title        published_at  \\\n",
       "0      UC6UL29enLNe4mqwTfAyeNuw             Bundesliga 2021-07-01 10:00:00   \n",
       "1      UCGIelM2Dj3zza3xyV3pL3WQ              MigosVEVO 2021-06-10 16:00:00   \n",
       "2      UClBKH8yZRcM4AsRjDVEdjMg     Television Academy 2021-09-20 01:03:32   \n",
       "3      UCsmXiDP8S40uBeJYxvyulmA                    JO1 2021-03-03 10:00:17   \n",
       "4      UCMOqf8ab-42UUQIdVoKwjlQ  Practical Engineering 2021-12-07 13:00:00   \n",
       "...                         ...                    ...                 ...   \n",
       "37417  UCEB4a5o_6KfjxHwNMnmj54Q               Lil Tjay 2021-02-12 05:03:49   \n",
       "37418  UCWJ2lWNubArHWmf3FIHbfcQ                    NBA 2021-01-16 05:39:05   \n",
       "37419  UCuhAUMLzJxlP1W7mEk0_6lA                MAMAMOO 2021-06-02 09:00:10   \n",
       "37420  UC8NjnNWMsRqq11NYvHAQb1g         Master Podcast 2020-10-20 20:59:30   \n",
       "37421  UCEg25rdRZXg32iwai6N6l0w      Tottenham Hotspur 2021-05-23 21:00:31   \n",
       "\n",
       "       view_count    likes  dislikes  comment_count  \\\n",
       "0         1048888    19515       226           1319   \n",
       "1        15352638   359277      7479          18729   \n",
       "2          925281    11212       401            831   \n",
       "3         2641597    39131       441           3745   \n",
       "4          715724    32887       367           1067   \n",
       "...           ...      ...       ...            ...   \n",
       "37417   120408275  2180780     35871          81360   \n",
       "37418     2841917    20759      1049           2624   \n",
       "37419    13346678   720854      4426          90616   \n",
       "37420      252057    19198      1234           1471   \n",
       "37421     2252090    34063       868           2004   \n",
       "\n",
       "                                                    tags  \\\n",
       "0      football soccer ftbol alemn Bundesliga season ...   \n",
       "1      Migos Avalanche Quality Control Music/Motown R...   \n",
       "2                                                          \n",
       "3      PRODUCE101JAPAN              JO1   TheSTAR STA...   \n",
       "4      retaining wall New Jersey highway Direct Conne...   \n",
       "...                                                  ...   \n",
       "37417  Lil Tjay Steady Calling My Phone Calling My Ph...   \n",
       "37418  NBA G League Basketball game-0022000187 Lakers...   \n",
       "37419  MAMAMOO  WAW  WAW MAMAMOO WAW Where Are We Now...   \n",
       "37420  master masterpodcast lord lord vinheteiro z z ...   \n",
       "37421  Spurs Tottenham Hotspur   Tottenham Leicester ...   \n",
       "\n",
       "                                             description  \\\n",
       "0      Enjoy the best skills and goals from Jadon San...   \n",
       "1      Watch the the official video for Migos - \"Aval...   \n",
       "2      Hannah Waddingham wins the Emmy for Supporting...   \n",
       "3      JO1'YOUNG (JO1 ver.)' PERFORMANCE VIDEO\\n\\n---...   \n",
       "4      One of the most important (and innocuous) part...   \n",
       "...                                                  ...   \n",
       "37417  Official video for \"Calling My Phone\" by Lil T...   \n",
       "37418  PELICANS at LAKERS | FULL GAME HIGHLIGHTS | Ja...   \n",
       "37419  [MV]  (MAMAMOO) - Where Are We Now\\n\\nInstagra...   \n",
       "37420  DOCTOR HAIR\\nhttps://www.thedoctorhair.com/?fb...   \n",
       "37421  Two minute highlights from Tottenham Hotspur's...   \n",
       "\n",
       "                                                comments published_months  \\\n",
       "0      Respect to Dortmund fans,must be sad losing hi...              Jul   \n",
       "1      Migos just makes me want to live my live to th...              Jun   \n",
       "2      Hannah's energy bursts through any screen. Wel...              Sep   \n",
       "3      youngVer><  REN is really PERFECT. It's not ju...              Mar   \n",
       "4       Keep up with all my projects here: https://pr...              Dec   \n",
       "...                                                  ...              ...   \n",
       "37417  'DESTINED 2 WIN' OUT NOW !! https://liltjay.ln...              Feb   \n",
       "37418  Montrezl Harrell is going crazy with the rebou...              Jan   \n",
       "37419  I honestly do not know why this song hit so ha...              Jun   \n",
       "37420  Foi um prazer passar esta tarde com vocs debat...              Oct   \n",
       "37421  Thank you Kane for everything you have given t...              May   \n",
       "\n",
       "       published_month  \n",
       "0                    7  \n",
       "1                    6  \n",
       "2                    9  \n",
       "3                    3  \n",
       "4                   12  \n",
       "...                ...  \n",
       "37417                2  \n",
       "37418                1  \n",
       "37419                6  \n",
       "37420               10  \n",
       "37421                5  \n",
       "\n",
       "[37422 rows x 14 columns]"
      ]
     },
     "execution_count": 9,
     "metadata": {},
     "output_type": "execute_result"
    }
   ],
   "source": [
    "# Replacing the numerical representation of months in (published_month) column as name of months as (Jan, Feb, Mar, ..... Dec )\n",
    "\n",
    "df['published_at'] = pd.to_datetime(df['published_at'])\n",
    "df['published_months'] = df['published_at'].dt.strftime('%b')\n",
    "pd.DataFrame(df['published_months'])\n",
    "df\n"
   ]
  },
  {
   "cell_type": "markdown",
   "id": "99e72551",
   "metadata": {},
   "source": [
    "# Q8) Find the number of videos published each month and arrange the months in a decreasing order based on the video count."
   ]
  },
  {
   "cell_type": "code",
   "execution_count": 16,
   "id": "418fe270",
   "metadata": {
    "ExecuteTime": {
     "end_time": "2024-01-27T11:38:06.046161Z",
     "start_time": "2024-01-27T11:38:06.034610Z"
    }
   },
   "outputs": [
    {
     "data": {
      "text/html": [
       "<div>\n",
       "<style scoped>\n",
       "    .dataframe tbody tr th:only-of-type {\n",
       "        vertical-align: middle;\n",
       "    }\n",
       "\n",
       "    .dataframe tbody tr th {\n",
       "        vertical-align: top;\n",
       "    }\n",
       "\n",
       "    .dataframe thead th {\n",
       "        text-align: right;\n",
       "    }\n",
       "</style>\n",
       "<table border=\"1\" class=\"dataframe\">\n",
       "  <thead>\n",
       "    <tr style=\"text-align: right;\">\n",
       "      <th></th>\n",
       "      <th>count</th>\n",
       "    </tr>\n",
       "    <tr>\n",
       "      <th>published_months</th>\n",
       "      <th></th>\n",
       "    </tr>\n",
       "  </thead>\n",
       "  <tbody>\n",
       "    <tr>\n",
       "      <th>Oct</th>\n",
       "      <td>4976</td>\n",
       "    </tr>\n",
       "    <tr>\n",
       "      <th>Sep</th>\n",
       "      <td>4854</td>\n",
       "    </tr>\n",
       "    <tr>\n",
       "      <th>Nov</th>\n",
       "      <td>4821</td>\n",
       "    </tr>\n",
       "    <tr>\n",
       "      <th>Aug</th>\n",
       "      <td>4250</td>\n",
       "    </tr>\n",
       "    <tr>\n",
       "      <th>Dec</th>\n",
       "      <td>3063</td>\n",
       "    </tr>\n",
       "    <tr>\n",
       "      <th>Jul</th>\n",
       "      <td>2331</td>\n",
       "    </tr>\n",
       "    <tr>\n",
       "      <th>Jun</th>\n",
       "      <td>2305</td>\n",
       "    </tr>\n",
       "    <tr>\n",
       "      <th>Mar</th>\n",
       "      <td>2248</td>\n",
       "    </tr>\n",
       "    <tr>\n",
       "      <th>Feb</th>\n",
       "      <td>2125</td>\n",
       "    </tr>\n",
       "    <tr>\n",
       "      <th>Apr</th>\n",
       "      <td>2119</td>\n",
       "    </tr>\n",
       "    <tr>\n",
       "      <th>Jan</th>\n",
       "      <td>2099</td>\n",
       "    </tr>\n",
       "    <tr>\n",
       "      <th>May</th>\n",
       "      <td>2073</td>\n",
       "    </tr>\n",
       "  </tbody>\n",
       "</table>\n",
       "</div>"
      ],
      "text/plain": [
       "                  count\n",
       "published_months       \n",
       "Oct                4976\n",
       "Sep                4854\n",
       "Nov                4821\n",
       "Aug                4250\n",
       "Dec                3063\n",
       "Jul                2331\n",
       "Jun                2305\n",
       "Mar                2248\n",
       "Feb                2125\n",
       "Apr                2119\n",
       "Jan                2099\n",
       "May                2073"
      ]
     },
     "execution_count": 16,
     "metadata": {},
     "output_type": "execute_result"
    }
   ],
   "source": [
    "# finding Number of videos_published in each month and arrange months in decreasing order...\n",
    "\n",
    "pd.DataFrame(df['published_months'].value_counts())\n"
   ]
  },
  {
   "cell_type": "markdown",
   "id": "d7c76a10",
   "metadata": {},
   "source": [
    "# Q9) Find the count of unique video_id, channel_id and channel_title."
   ]
  },
  {
   "cell_type": "code",
   "execution_count": 17,
   "id": "03e3e721",
   "metadata": {
    "ExecuteTime": {
     "end_time": "2024-01-27T11:38:09.996071Z",
     "start_time": "2024-01-27T11:38:09.966087Z"
    }
   },
   "outputs": [
    {
     "data": {
      "text/html": [
       "<div>\n",
       "<style scoped>\n",
       "    .dataframe tbody tr th:only-of-type {\n",
       "        vertical-align: middle;\n",
       "    }\n",
       "\n",
       "    .dataframe tbody tr th {\n",
       "        vertical-align: top;\n",
       "    }\n",
       "\n",
       "    .dataframe thead th {\n",
       "        text-align: right;\n",
       "    }\n",
       "</style>\n",
       "<table border=\"1\" class=\"dataframe\">\n",
       "  <thead>\n",
       "    <tr style=\"text-align: right;\">\n",
       "      <th></th>\n",
       "      <th>video_id</th>\n",
       "      <th>channel_id</th>\n",
       "      <th>channel_title</th>\n",
       "    </tr>\n",
       "  </thead>\n",
       "  <tbody>\n",
       "    <tr>\n",
       "      <th>0</th>\n",
       "      <td>37264</td>\n",
       "      <td>10891</td>\n",
       "      <td>10813</td>\n",
       "    </tr>\n",
       "  </tbody>\n",
       "</table>\n",
       "</div>"
      ],
      "text/plain": [
       "   video_id  channel_id  channel_title\n",
       "0     37264       10891          10813"
      ]
     },
     "execution_count": 17,
     "metadata": {},
     "output_type": "execute_result"
    }
   ],
   "source": [
    "# Finding the count of columns ['video_id', 'channel_id', 'channel_title'] using (nunique) function\n",
    "\n",
    "pd.DataFrame(df[['video_id', 'channel_id', 'channel_title']].nunique()).T"
   ]
  },
  {
   "cell_type": "markdown",
   "id": "03623b54",
   "metadata": {},
   "source": [
    "# Q10) Find the top10 channel names having the highest number of videos in the dataset and the bottom10 having lowest number of videos."
   ]
  },
  {
   "cell_type": "code",
   "execution_count": 18,
   "id": "c37b8438",
   "metadata": {
    "ExecuteTime": {
     "end_time": "2024-01-27T11:38:13.069093Z",
     "start_time": "2024-01-27T11:38:13.055293Z"
    }
   },
   "outputs": [
    {
     "data": {
      "text/html": [
       "<div>\n",
       "<style scoped>\n",
       "    .dataframe tbody tr th:only-of-type {\n",
       "        vertical-align: middle;\n",
       "    }\n",
       "\n",
       "    .dataframe tbody tr th {\n",
       "        vertical-align: top;\n",
       "    }\n",
       "\n",
       "    .dataframe thead th {\n",
       "        text-align: right;\n",
       "    }\n",
       "</style>\n",
       "<table border=\"1\" class=\"dataframe\">\n",
       "  <thead>\n",
       "    <tr style=\"text-align: right;\">\n",
       "      <th></th>\n",
       "      <th>count</th>\n",
       "    </tr>\n",
       "    <tr>\n",
       "      <th>channel_title</th>\n",
       "      <th></th>\n",
       "    </tr>\n",
       "  </thead>\n",
       "  <tbody>\n",
       "    <tr>\n",
       "      <th>Sky Sports Football</th>\n",
       "      <td>533</td>\n",
       "    </tr>\n",
       "    <tr>\n",
       "      <th>The United Stand</th>\n",
       "      <td>301</td>\n",
       "    </tr>\n",
       "    <tr>\n",
       "      <th>BT Sport</th>\n",
       "      <td>246</td>\n",
       "    </tr>\n",
       "    <tr>\n",
       "      <th>NBA</th>\n",
       "      <td>209</td>\n",
       "    </tr>\n",
       "    <tr>\n",
       "      <th>NFL</th>\n",
       "      <td>162</td>\n",
       "    </tr>\n",
       "    <tr>\n",
       "      <th>WWE</th>\n",
       "      <td>122</td>\n",
       "    </tr>\n",
       "    <tr>\n",
       "      <th>SSSniperWolf</th>\n",
       "      <td>99</td>\n",
       "    </tr>\n",
       "    <tr>\n",
       "      <th>SSundee</th>\n",
       "      <td>98</td>\n",
       "    </tr>\n",
       "    <tr>\n",
       "      <th>FORMULA 1</th>\n",
       "      <td>87</td>\n",
       "    </tr>\n",
       "    <tr>\n",
       "      <th>NHL</th>\n",
       "      <td>86</td>\n",
       "    </tr>\n",
       "  </tbody>\n",
       "</table>\n",
       "</div>"
      ],
      "text/plain": [
       "                     count\n",
       "channel_title             \n",
       "Sky Sports Football    533\n",
       "The United Stand       301\n",
       "BT Sport               246\n",
       "NBA                    209\n",
       "NFL                    162\n",
       "WWE                    122\n",
       "SSSniperWolf            99\n",
       "SSundee                 98\n",
       "FORMULA 1               87\n",
       "NHL                     86"
      ]
     },
     "execution_count": 18,
     "metadata": {},
     "output_type": "execute_result"
    }
   ],
   "source": [
    "\n",
    "# Top 10 channels names having highest number videos...\n",
    "\n",
    "pd.DataFrame(df['channel_title'].value_counts().head(10))\n",
    "\n"
   ]
  },
  {
   "cell_type": "code",
   "execution_count": 19,
   "id": "ce0db4b7",
   "metadata": {
    "ExecuteTime": {
     "end_time": "2024-01-27T11:38:17.423170Z",
     "start_time": "2024-01-27T11:38:17.401752Z"
    }
   },
   "outputs": [
    {
     "data": {
      "text/html": [
       "<div>\n",
       "<style scoped>\n",
       "    .dataframe tbody tr th:only-of-type {\n",
       "        vertical-align: middle;\n",
       "    }\n",
       "\n",
       "    .dataframe tbody tr th {\n",
       "        vertical-align: top;\n",
       "    }\n",
       "\n",
       "    .dataframe thead th {\n",
       "        text-align: right;\n",
       "    }\n",
       "</style>\n",
       "<table border=\"1\" class=\"dataframe\">\n",
       "  <thead>\n",
       "    <tr style=\"text-align: right;\">\n",
       "      <th></th>\n",
       "      <th>video_id</th>\n",
       "    </tr>\n",
       "    <tr>\n",
       "      <th>channel_title</th>\n",
       "      <th></th>\n",
       "    </tr>\n",
       "  </thead>\n",
       "  <tbody>\n",
       "    <tr>\n",
       "      <th>Karikku Tuned</th>\n",
       "      <td>1</td>\n",
       "    </tr>\n",
       "    <tr>\n",
       "      <th>Karen Bustillos</th>\n",
       "      <td>1</td>\n",
       "    </tr>\n",
       "    <tr>\n",
       "      <th>Karen Aslanyan</th>\n",
       "      <td>1</td>\n",
       "    </tr>\n",
       "    <tr>\n",
       "      <th>Karchez</th>\n",
       "      <td>1</td>\n",
       "    </tr>\n",
       "    <tr>\n",
       "      <th>Karate Combat</th>\n",
       "      <td>1</td>\n",
       "    </tr>\n",
       "    <tr>\n",
       "      <th>Kaptain Kuba</th>\n",
       "      <td>1</td>\n",
       "    </tr>\n",
       "    <tr>\n",
       "      <th>Kanye West</th>\n",
       "      <td>1</td>\n",
       "    </tr>\n",
       "    <tr>\n",
       "      <th>Kannur kitchen</th>\n",
       "      <td>1</td>\n",
       "    </tr>\n",
       "    <tr>\n",
       "      <th>Kannada Cinema</th>\n",
       "      <td>1</td>\n",
       "    </tr>\n",
       "    <tr>\n",
       "      <th>zoom</th>\n",
       "      <td>1</td>\n",
       "    </tr>\n",
       "  </tbody>\n",
       "</table>\n",
       "</div>"
      ],
      "text/plain": [
       "                 video_id\n",
       "channel_title            \n",
       "Karikku Tuned           1\n",
       "Karen Bustillos         1\n",
       "Karen Aslanyan          1\n",
       "Karchez                 1\n",
       "Karate Combat           1\n",
       "Kaptain Kuba            1\n",
       "Kanye West              1\n",
       "Kannur kitchen          1\n",
       "Kannada Cinema          1\n",
       "zoom                    1"
      ]
     },
     "execution_count": 19,
     "metadata": {},
     "output_type": "execute_result"
    }
   ],
   "source": [
    "# Bottom 10 channels names having highest number videos...\n",
    "\n",
    "\n",
    "pd.DataFrame(df.groupby('channel_title')['video_id'].count().sort_values(ascending=False).tail(10))"
   ]
  },
  {
   "cell_type": "markdown",
   "id": "84f58577",
   "metadata": {},
   "source": [
    "# Q11) Find the title of the video which has the maximum number of likes and the title of the video having minimum likes and write your inferences."
   ]
  },
  {
   "cell_type": "code",
   "execution_count": 20,
   "id": "60c03db5",
   "metadata": {
    "ExecuteTime": {
     "end_time": "2024-01-27T11:38:23.528277Z",
     "start_time": "2024-01-27T11:38:23.452935Z"
    }
   },
   "outputs": [
    {
     "data": {
      "text/html": [
       "<div>\n",
       "<style scoped>\n",
       "    .dataframe tbody tr th:only-of-type {\n",
       "        vertical-align: middle;\n",
       "    }\n",
       "\n",
       "    .dataframe tbody tr th {\n",
       "        vertical-align: top;\n",
       "    }\n",
       "\n",
       "    .dataframe thead th {\n",
       "        text-align: right;\n",
       "    }\n",
       "</style>\n",
       "<table border=\"1\" class=\"dataframe\">\n",
       "  <thead>\n",
       "    <tr style=\"text-align: right;\">\n",
       "      <th></th>\n",
       "      <th>likes</th>\n",
       "    </tr>\n",
       "    <tr>\n",
       "      <th>title</th>\n",
       "      <th></th>\n",
       "    </tr>\n",
       "  </thead>\n",
       "  <tbody>\n",
       "    <tr>\n",
       "      <th>BTS () 'Dynamite' Official MV</th>\n",
       "      <td>31837675</td>\n",
       "    </tr>\n",
       "  </tbody>\n",
       "</table>\n",
       "</div>"
      ],
      "text/plain": [
       "                                  likes\n",
       "title                                  \n",
       "BTS () 'Dynamite' Official MV  31837675"
      ]
     },
     "execution_count": 20,
     "metadata": {},
     "output_type": "execute_result"
    }
   ],
   "source": [
    "# Finding the title of the video which has the maximum number of likes...\n",
    "\n",
    "likes = pd.DataFrame(df.groupby('title')['likes'].max().sort_values(ascending=False).head(1))\n",
    "likes"
   ]
  },
  {
   "cell_type": "markdown",
   "id": "6895ec7a",
   "metadata": {},
   "source": [
    "### Q11) *Inference...*"
   ]
  },
  {
   "cell_type": "raw",
   "id": "aaf485e5",
   "metadata": {},
   "source": [
    "> (BTS () 'Dynamite' Official MV) video has the higest number of likes 31837675"
   ]
  },
  {
   "cell_type": "code",
   "execution_count": 21,
   "id": "c6895cd5",
   "metadata": {
    "ExecuteTime": {
     "end_time": "2024-01-27T11:38:28.338883Z",
     "start_time": "2024-01-27T11:38:28.264082Z"
    }
   },
   "outputs": [
    {
     "data": {
      "text/html": [
       "<div>\n",
       "<style scoped>\n",
       "    .dataframe tbody tr th:only-of-type {\n",
       "        vertical-align: middle;\n",
       "    }\n",
       "\n",
       "    .dataframe tbody tr th {\n",
       "        vertical-align: top;\n",
       "    }\n",
       "\n",
       "    .dataframe thead th {\n",
       "        text-align: right;\n",
       "    }\n",
       "</style>\n",
       "<table border=\"1\" class=\"dataframe\">\n",
       "  <thead>\n",
       "    <tr style=\"text-align: right;\">\n",
       "      <th></th>\n",
       "      <th>likes</th>\n",
       "    </tr>\n",
       "    <tr>\n",
       "      <th>title</th>\n",
       "      <th></th>\n",
       "    </tr>\n",
       "  </thead>\n",
       "  <tbody>\n",
       "    <tr>\n",
       "      <th>Leading the Charge | Circle K</th>\n",
       "      <td>22</td>\n",
       "    </tr>\n",
       "  </tbody>\n",
       "</table>\n",
       "</div>"
      ],
      "text/plain": [
       "                               likes\n",
       "title                               \n",
       "Leading the Charge | Circle K     22"
      ]
     },
     "execution_count": 21,
     "metadata": {},
     "output_type": "execute_result"
    }
   ],
   "source": [
    "# Finding the title of the video which has the minimum number of likes...\n",
    "\n",
    "pd.DataFrame(df.groupby('title')['likes'].max().sort_values(ascending=False).tail(1))"
   ]
  },
  {
   "cell_type": "markdown",
   "id": "9858af13",
   "metadata": {},
   "source": [
    "### *Q11) Inference....*"
   ]
  },
  {
   "cell_type": "raw",
   "id": "1e79630c",
   "metadata": {},
   "source": [
    "> (Leading the Charge | Circle K) has the lowest number of like 22"
   ]
  },
  {
   "cell_type": "markdown",
   "id": "df3dc13e",
   "metadata": {},
   "source": [
    "# Q12) Find the title of the video which has the maximum number of dislikes and the title of the video having minimum dislikes and write your inferences."
   ]
  },
  {
   "cell_type": "code",
   "execution_count": 22,
   "id": "7673db46",
   "metadata": {
    "ExecuteTime": {
     "end_time": "2024-01-27T11:38:31.350456Z",
     "start_time": "2024-01-27T11:38:31.284111Z"
    },
    "scrolled": true
   },
   "outputs": [
    {
     "data": {
      "text/html": [
       "<div>\n",
       "<style scoped>\n",
       "    .dataframe tbody tr th:only-of-type {\n",
       "        vertical-align: middle;\n",
       "    }\n",
       "\n",
       "    .dataframe tbody tr th {\n",
       "        vertical-align: top;\n",
       "    }\n",
       "\n",
       "    .dataframe thead th {\n",
       "        text-align: right;\n",
       "    }\n",
       "</style>\n",
       "<table border=\"1\" class=\"dataframe\">\n",
       "  <thead>\n",
       "    <tr style=\"text-align: right;\">\n",
       "      <th></th>\n",
       "      <th>dislikes</th>\n",
       "    </tr>\n",
       "    <tr>\n",
       "      <th>title</th>\n",
       "      <th></th>\n",
       "    </tr>\n",
       "  </thead>\n",
       "  <tbody>\n",
       "    <tr>\n",
       "      <th>Cuties | Official Trailer | Netflix</th>\n",
       "      <td>2397733</td>\n",
       "    </tr>\n",
       "  </tbody>\n",
       "</table>\n",
       "</div>"
      ],
      "text/plain": [
       "                                     dislikes\n",
       "title                                        \n",
       "Cuties | Official Trailer | Netflix   2397733"
      ]
     },
     "execution_count": 22,
     "metadata": {},
     "output_type": "execute_result"
    }
   ],
   "source": [
    "# Finding the title of the video which has the maximum numbers of dislikes...\n",
    "\n",
    "pd.DataFrame(df.groupby('title')['dislikes'].max().sort_values(ascending=False).head(1))"
   ]
  },
  {
   "cell_type": "markdown",
   "id": "8ef65a2f",
   "metadata": {},
   "source": [
    "### Q12) *Inference For Maximum Number of Dislikes...*"
   ]
  },
  {
   "cell_type": "raw",
   "id": "19c03c96",
   "metadata": {},
   "source": [
    "> (Cuties | Official Trailer | Netflix) has the maximum of number of dislikes 2397733"
   ]
  },
  {
   "cell_type": "code",
   "execution_count": 23,
   "id": "91009be1",
   "metadata": {
    "ExecuteTime": {
     "end_time": "2024-01-27T11:38:35.613614Z",
     "start_time": "2024-01-27T11:38:35.541332Z"
    }
   },
   "outputs": [
    {
     "data": {
      "text/html": [
       "<div>\n",
       "<style scoped>\n",
       "    .dataframe tbody tr th:only-of-type {\n",
       "        vertical-align: middle;\n",
       "    }\n",
       "\n",
       "    .dataframe tbody tr th {\n",
       "        vertical-align: top;\n",
       "    }\n",
       "\n",
       "    .dataframe thead th {\n",
       "        text-align: right;\n",
       "    }\n",
       "</style>\n",
       "<table border=\"1\" class=\"dataframe\">\n",
       "  <thead>\n",
       "    <tr style=\"text-align: right;\">\n",
       "      <th></th>\n",
       "      <th>dislikes</th>\n",
       "    </tr>\n",
       "    <tr>\n",
       "      <th>title</th>\n",
       "      <th></th>\n",
       "    </tr>\n",
       "  </thead>\n",
       "  <tbody>\n",
       "    <tr>\n",
       "      <th>Tims For Good: A Taste Of The Familiar</th>\n",
       "      <td>3</td>\n",
       "    </tr>\n",
       "  </tbody>\n",
       "</table>\n",
       "</div>"
      ],
      "text/plain": [
       "                                        dislikes\n",
       "title                                           \n",
       "Tims For Good: A Taste Of The Familiar         3"
      ]
     },
     "execution_count": 23,
     "metadata": {},
     "output_type": "execute_result"
    }
   ],
   "source": [
    "# Finding the title of the video which has the minimum numbers of dislikes...\n",
    "\n",
    "pd.DataFrame(df.groupby('title')['dislikes'].max().sort_values(ascending=False).tail(1))"
   ]
  },
  {
   "cell_type": "markdown",
   "id": "74470f0e",
   "metadata": {},
   "source": [
    "### Q12) *Inference For Minimum Number of Dislikes...*"
   ]
  },
  {
   "cell_type": "raw",
   "id": "8bed5e9a",
   "metadata": {},
   "source": [
    "> (Tims For Good: A Taste Of The Familiar) has the minimum number of dislikes 3"
   ]
  },
  {
   "cell_type": "markdown",
   "id": "1c19475c",
   "metadata": {
    "ExecuteTime": {
     "end_time": "2024-01-22T17:17:41.803519Z",
     "start_time": "2024-01-22T17:17:41.799575Z"
    }
   },
   "source": [
    "# Q13) Does the number of views have any effect on how many people disliked the video? Support your answer with a metric and a plot."
   ]
  },
  {
   "cell_type": "code",
   "execution_count": 24,
   "id": "886038a4",
   "metadata": {
    "ExecuteTime": {
     "end_time": "2024-01-27T11:38:39.279477Z",
     "start_time": "2024-01-27T11:38:39.273928Z"
    }
   },
   "outputs": [],
   "source": [
    "# Finding Numbers of views effect on how many people disliked the video...\n",
    "\n",
    "df['dislikes rate'] = df['dislikes'] / df['view_count']*100\n"
   ]
  },
  {
   "cell_type": "code",
   "execution_count": 25,
   "id": "4ef130b3",
   "metadata": {
    "ExecuteTime": {
     "end_time": "2024-01-27T11:38:41.466352Z",
     "start_time": "2024-01-27T11:38:40.872157Z"
    },
    "scrolled": true
   },
   "outputs": [
    {
     "data": {
      "text/plain": [
       "<Axes: xlabel='view_count', ylabel='dislikes rate'>"
      ]
     },
     "execution_count": 25,
     "metadata": {},
     "output_type": "execute_result"
    },
    {
     "data": {
      "text/plain": [
       "<Figure size 1500x600 with 0 Axes>"
      ]
     },
     "metadata": {},
     "output_type": "display_data"
    },
    {
     "data": {
      "image/png": "[encoded data removed]",
      "text/plain": [
       "<Figure size 640x480 with 1 Axes>"
      ]
     },
     "metadata": {},
     "output_type": "display_data"
    }
   ],
   "source": [
    "# Plotting for visualization...\n",
    "\n",
    "plt.figure(figsize = (15, 6))\n",
    "pd.DataFrame(df[['dislikes rate','view_count']]).plot(x='view_count',y='dislikes rate',kind='scatter')\n"
   ]
  },
  {
   "cell_type": "markdown",
   "id": "6ee00747",
   "metadata": {},
   "source": [
    "### Q13) *Inference....*"
   ]
  },
  {
   "cell_type": "raw",
   "id": "cf89099c",
   "metadata": {},
   "source": [
    "> By Looking at above scatter plot that certain trend and the pattern from left to right which shows there is a correlation       using dislike rate\n",
    "\n",
    "> The correlation between views and dislikes is (0.68) which can be considered as moderate to higher correlation. \n",
    "  Thus, based on this observation, it can be inferred that the number of views plays a significant role in influencing the         count of dislikes on a video.\n",
    " "
   ]
  },
  {
   "cell_type": "code",
   "execution_count": 26,
   "id": "52a4c2cb",
   "metadata": {
    "ExecuteTime": {
     "end_time": "2024-01-27T11:38:45.889724Z",
     "start_time": "2024-01-27T11:38:45.677332Z"
    }
   },
   "outputs": [
    {
     "data": {
      "text/plain": [
       "<Axes: >"
      ]
     },
     "execution_count": 26,
     "metadata": {},
     "output_type": "execute_result"
    },
    {
     "data": {
      "image/png": "[encoded data removed]",
      "text/plain": [
       "<Figure size 640x480 with 2 Axes>"
      ]
     },
     "metadata": {},
     "output_type": "display_data"
    }
   ],
   "source": [
    "# Heatmap for metric representation... \n",
    "\n",
    "sns.heatmap(df[['view_count', 'dislikes']].corr(), annot = True, cmap = 'Blues')"
   ]
  },
  {
   "cell_type": "markdown",
   "id": "a5d2dc10",
   "metadata": {},
   "source": [
    "# Q14) Display all the information about the videos that were published in January, and mention the count of videos that were published in January."
   ]
  },
  {
   "cell_type": "code",
   "execution_count": 27,
   "id": "0e5769ef",
   "metadata": {
    "ExecuteTime": {
     "end_time": "2024-01-27T11:38:49.676116Z",
     "start_time": "2024-01-27T11:38:49.638154Z"
    }
   },
   "outputs": [
    {
     "data": {
      "text/html": [
       "<div>\n",
       "<style scoped>\n",
       "    .dataframe tbody tr th:only-of-type {\n",
       "        vertical-align: middle;\n",
       "    }\n",
       "\n",
       "    .dataframe tbody tr th {\n",
       "        vertical-align: top;\n",
       "    }\n",
       "\n",
       "    .dataframe thead th {\n",
       "        text-align: right;\n",
       "    }\n",
       "</style>\n",
       "<table border=\"1\" class=\"dataframe\">\n",
       "  <thead>\n",
       "    <tr style=\"text-align: right;\">\n",
       "      <th></th>\n",
       "      <th>video_id</th>\n",
       "      <th>title</th>\n",
       "      <th>channel_id</th>\n",
       "      <th>channel_title</th>\n",
       "      <th>published_at</th>\n",
       "      <th>view_count</th>\n",
       "      <th>likes</th>\n",
       "      <th>dislikes</th>\n",
       "      <th>comment_count</th>\n",
       "      <th>tags</th>\n",
       "      <th>description</th>\n",
       "      <th>comments</th>\n",
       "      <th>published_months</th>\n",
       "      <th>published_month</th>\n",
       "      <th>dislikes rate</th>\n",
       "    </tr>\n",
       "  </thead>\n",
       "  <tbody>\n",
       "    <tr>\n",
       "      <th>27</th>\n",
       "      <td>-2Gwm7QfBnE</td>\n",
       "      <td>Q&amp;A With Naisha</td>\n",
       "      <td>UCYwNMbogQFzMccPSuy-pPWg</td>\n",
       "      <td>MianTwins</td>\n",
       "      <td>2021-01-21 00:05:47</td>\n",
       "      <td>872372</td>\n",
       "      <td>38626</td>\n",
       "      <td>239</td>\n",
       "      <td>621</td>\n",
       "      <td></td>\n",
       "      <td>Hey Guys!!! this has been the most requested v...</td>\n",
       "      <td>I feel like Nate and Aishas personality match ...</td>\n",
       "      <td>Jan</td>\n",
       "      <td>1</td>\n",
       "      <td>0.027397</td>\n",
       "    </tr>\n",
       "    <tr>\n",
       "      <th>48</th>\n",
       "      <td>-4sfXSHSxzA</td>\n",
       "      <td>SURPRISING BRENT WITH HIS TIKTOK CRUSH!!</td>\n",
       "      <td>UCPpATKqmMV-CNRNWYaDUwiA</td>\n",
       "      <td>Alexa Rivera</td>\n",
       "      <td>2021-01-16 21:40:04</td>\n",
       "      <td>6504784</td>\n",
       "      <td>262477</td>\n",
       "      <td>5779</td>\n",
       "      <td>7907</td>\n",
       "      <td></td>\n",
       "      <td>He had no idea! Thank you guys so much for wat...</td>\n",
       "      <td>Thank you guys for watching and don't forget t...</td>\n",
       "      <td>Jan</td>\n",
       "      <td>1</td>\n",
       "      <td>0.088842</td>\n",
       "    </tr>\n",
       "    <tr>\n",
       "      <th>95</th>\n",
       "      <td>-AJD1Fc5rpQ</td>\n",
       "      <td>WE ARE HAVING A BABY! | finding out i'm pregna...</td>\n",
       "      <td>UCVsTboAhpnuL6j-tDePvNwQ</td>\n",
       "      <td>Tess Christine</td>\n",
       "      <td>2021-01-03 21:53:48</td>\n",
       "      <td>533084</td>\n",
       "      <td>38965</td>\n",
       "      <td>119</td>\n",
       "      <td>1650</td>\n",
       "      <td></td>\n",
       "      <td>I am so happy to tell you that I am pregnant!!...</td>\n",
       "      <td>Okay I needed a moment to collect my thoughts ...</td>\n",
       "      <td>Jan</td>\n",
       "      <td>1</td>\n",
       "      <td>0.022323</td>\n",
       "    </tr>\n",
       "    <tr>\n",
       "      <th>103</th>\n",
       "      <td>-AuJiwjsmWk</td>\n",
       "      <td>Do Ugly Foods Taste Worse? Taste Test</td>\n",
       "      <td>UCzpCc5n9hqiVC7HhPwcIKEg</td>\n",
       "      <td>Good Mythical MORE</td>\n",
       "      <td>2021-01-19 11:00:01</td>\n",
       "      <td>1057077</td>\n",
       "      <td>22526</td>\n",
       "      <td>531</td>\n",
       "      <td>773</td>\n",
       "      <td>gmm good mythical morning rhettandlink rhett a...</td>\n",
       "      <td>Today, we're doing a blind taste test to deter...</td>\n",
       "      <td>\"there's nothing wrong with it being bent\"\\nI ...</td>\n",
       "      <td>Jan</td>\n",
       "      <td>1</td>\n",
       "      <td>0.050233</td>\n",
       "    </tr>\n",
       "    <tr>\n",
       "      <th>182</th>\n",
       "      <td>-JhqO2KWr5U</td>\n",
       "      <td>Schlatt gets fit</td>\n",
       "      <td>UCWZp4y1jqBuvLtiyxSs_ZBw</td>\n",
       "      <td>Big guy</td>\n",
       "      <td>2021-01-24 22:50:57</td>\n",
       "      <td>1724965</td>\n",
       "      <td>119431</td>\n",
       "      <td>325</td>\n",
       "      <td>1578</td>\n",
       "      <td>jschlatt big guy jschlatt highlights schlatt j...</td>\n",
       "      <td>#jschlatt #schlatt #bigguy #short</td>\n",
       "      <td>Schlatt is single handedly wiping out all the ...</td>\n",
       "      <td>Jan</td>\n",
       "      <td>1</td>\n",
       "      <td>0.018841</td>\n",
       "    </tr>\n",
       "    <tr>\n",
       "      <th>...</th>\n",
       "      <td>...</td>\n",
       "      <td>...</td>\n",
       "      <td>...</td>\n",
       "      <td>...</td>\n",
       "      <td>...</td>\n",
       "      <td>...</td>\n",
       "      <td>...</td>\n",
       "      <td>...</td>\n",
       "      <td>...</td>\n",
       "      <td>...</td>\n",
       "      <td>...</td>\n",
       "      <td>...</td>\n",
       "      <td>...</td>\n",
       "      <td>...</td>\n",
       "      <td>...</td>\n",
       "    </tr>\n",
       "    <tr>\n",
       "      <th>37300</th>\n",
       "      <td>zmzFL5bG-jc</td>\n",
       "      <td>DEVINE MON PERSONNAGE AVANT AKINATOR ! (c'est ...</td>\n",
       "      <td>UCIlr3byh6wmXgcPx_Tm9Ocw</td>\n",
       "      <td>Piwerre</td>\n",
       "      <td>2021-01-16 16:12:19</td>\n",
       "      <td>670357</td>\n",
       "      <td>54462</td>\n",
       "      <td>832</td>\n",
       "      <td>1249</td>\n",
       "      <td>Piwerre frere de michou crouton among us devin...</td>\n",
       "      <td>Discord Piwerre : https://discord.gg/QBduPgAA...</td>\n",
       "      <td>Mdr michou quand c'est pas ses tournage il fou...</td>\n",
       "      <td>Jan</td>\n",
       "      <td>1</td>\n",
       "      <td>0.124113</td>\n",
       "    </tr>\n",
       "    <tr>\n",
       "      <th>37329</th>\n",
       "      <td>zpzjex7qwrA</td>\n",
       "      <td>Lampard Sacked Within Days Rorys Misery | Chel...</td>\n",
       "      <td>UCkD-ZOixI0a9FjIExDsHsbg</td>\n",
       "      <td>The Kick Off</td>\n",
       "      <td>2021-01-03 20:13:49</td>\n",
       "      <td>428646</td>\n",
       "      <td>12060</td>\n",
       "      <td>296</td>\n",
       "      <td>1505</td>\n",
       "      <td>Premier league Chelsea chelsea 1-3 Man City Ch...</td>\n",
       "      <td>The Kick Off watched Manchester City destroy C...</td>\n",
       "      <td>True Its like a fighter who Geordie But I thou...</td>\n",
       "      <td>Jan</td>\n",
       "      <td>1</td>\n",
       "      <td>0.069055</td>\n",
       "    </tr>\n",
       "    <tr>\n",
       "      <th>37345</th>\n",
       "      <td>zqyv-B6mnBM</td>\n",
       "      <td>Lil Wayne - Ain't Got Time (Audio)</td>\n",
       "      <td>UCO9zJy7HWrIS3ojB4Lr7Yqw</td>\n",
       "      <td>Lil Wayne</td>\n",
       "      <td>2021-01-21 05:00:10</td>\n",
       "      <td>2238244</td>\n",
       "      <td>58925</td>\n",
       "      <td>2365</td>\n",
       "      <td>5539</td>\n",
       "      <td>lil wayne weezy weezy wednesday wayne carter y...</td>\n",
       "      <td>Official audio for Lil Wayne \"Ain't Got Time\",...</td>\n",
       "      <td>RIP Juice Wrld, wrote that on two cups, pour o...</td>\n",
       "      <td>Jan</td>\n",
       "      <td>1</td>\n",
       "      <td>0.105663</td>\n",
       "    </tr>\n",
       "    <tr>\n",
       "      <th>37383</th>\n",
       "      <td>zwfu1-24T7Q</td>\n",
       "      <td>PRADA Cup Day 1 | Full Race Replay | PRADA Cup...</td>\n",
       "      <td>UCo15ZYO_XDRU9LI30OPtxAg</td>\n",
       "      <td>America's Cup</td>\n",
       "      <td>2021-01-15 04:07:55</td>\n",
       "      <td>317382</td>\n",
       "      <td>2008</td>\n",
       "      <td>83</td>\n",
       "      <td>192</td>\n",
       "      <td>America's Cup Americas Cup AC36 AC75 Presented...</td>\n",
       "      <td>The opening day of the PRADA Cup in Auckland, ...</td>\n",
       "      <td>Incredible how these boats evolve in a short t...</td>\n",
       "      <td>Jan</td>\n",
       "      <td>1</td>\n",
       "      <td>0.026151</td>\n",
       "    </tr>\n",
       "    <tr>\n",
       "      <th>37418</th>\n",
       "      <td>zziBybeSAtw</td>\n",
       "      <td>PELICANS at LAKERS | FULL GAME HIGHLIGHTS | Ja...</td>\n",
       "      <td>UCWJ2lWNubArHWmf3FIHbfcQ</td>\n",
       "      <td>NBA</td>\n",
       "      <td>2021-01-16 05:39:05</td>\n",
       "      <td>2841917</td>\n",
       "      <td>20759</td>\n",
       "      <td>1049</td>\n",
       "      <td>2624</td>\n",
       "      <td>NBA G League Basketball game-0022000187 Lakers...</td>\n",
       "      <td>PELICANS at LAKERS | FULL GAME HIGHLIGHTS | Ja...</td>\n",
       "      <td>Montrezl Harrell is going crazy with the rebou...</td>\n",
       "      <td>Jan</td>\n",
       "      <td>1</td>\n",
       "      <td>0.036912</td>\n",
       "    </tr>\n",
       "  </tbody>\n",
       "</table>\n",
       "<p>2099 rows × 15 columns</p>\n",
       "</div>"
      ],
      "text/plain": [
       "          video_id                                              title  \\\n",
       "27     -2Gwm7QfBnE                                    Q&A With Naisha   \n",
       "48     -4sfXSHSxzA           SURPRISING BRENT WITH HIS TIKTOK CRUSH!!   \n",
       "95     -AJD1Fc5rpQ  WE ARE HAVING A BABY! | finding out i'm pregna...   \n",
       "103    -AuJiwjsmWk              Do Ugly Foods Taste Worse? Taste Test   \n",
       "182    -JhqO2KWr5U                                   Schlatt gets fit   \n",
       "...            ...                                                ...   \n",
       "37300  zmzFL5bG-jc  DEVINE MON PERSONNAGE AVANT AKINATOR ! (c'est ...   \n",
       "37329  zpzjex7qwrA  Lampard Sacked Within Days Rorys Misery | Chel...   \n",
       "37345  zqyv-B6mnBM                 Lil Wayne - Ain't Got Time (Audio)   \n",
       "37383  zwfu1-24T7Q  PRADA Cup Day 1 | Full Race Replay | PRADA Cup...   \n",
       "37418  zziBybeSAtw  PELICANS at LAKERS | FULL GAME HIGHLIGHTS | Ja...   \n",
       "\n",
       "                     channel_id       channel_title        published_at  \\\n",
       "27     UCYwNMbogQFzMccPSuy-pPWg           MianTwins 2021-01-21 00:05:47   \n",
       "48     UCPpATKqmMV-CNRNWYaDUwiA        Alexa Rivera 2021-01-16 21:40:04   \n",
       "95     UCVsTboAhpnuL6j-tDePvNwQ      Tess Christine 2021-01-03 21:53:48   \n",
       "103    UCzpCc5n9hqiVC7HhPwcIKEg  Good Mythical MORE 2021-01-19 11:00:01   \n",
       "182    UCWZp4y1jqBuvLtiyxSs_ZBw             Big guy 2021-01-24 22:50:57   \n",
       "...                         ...                 ...                 ...   \n",
       "37300  UCIlr3byh6wmXgcPx_Tm9Ocw             Piwerre 2021-01-16 16:12:19   \n",
       "37329  UCkD-ZOixI0a9FjIExDsHsbg        The Kick Off 2021-01-03 20:13:49   \n",
       "37345  UCO9zJy7HWrIS3ojB4Lr7Yqw           Lil Wayne 2021-01-21 05:00:10   \n",
       "37383  UCo15ZYO_XDRU9LI30OPtxAg       America's Cup 2021-01-15 04:07:55   \n",
       "37418  UCWJ2lWNubArHWmf3FIHbfcQ                 NBA 2021-01-16 05:39:05   \n",
       "\n",
       "       view_count   likes  dislikes  comment_count  \\\n",
       "27         872372   38626       239            621   \n",
       "48        6504784  262477      5779           7907   \n",
       "95         533084   38965       119           1650   \n",
       "103       1057077   22526       531            773   \n",
       "182       1724965  119431       325           1578   \n",
       "...           ...     ...       ...            ...   \n",
       "37300      670357   54462       832           1249   \n",
       "37329      428646   12060       296           1505   \n",
       "37345     2238244   58925      2365           5539   \n",
       "37383      317382    2008        83            192   \n",
       "37418     2841917   20759      1049           2624   \n",
       "\n",
       "                                                    tags  \\\n",
       "27                                                         \n",
       "48                                                         \n",
       "95                                                         \n",
       "103    gmm good mythical morning rhettandlink rhett a...   \n",
       "182    jschlatt big guy jschlatt highlights schlatt j...   \n",
       "...                                                  ...   \n",
       "37300  Piwerre frere de michou crouton among us devin...   \n",
       "37329  Premier league Chelsea chelsea 1-3 Man City Ch...   \n",
       "37345  lil wayne weezy weezy wednesday wayne carter y...   \n",
       "37383  America's Cup Americas Cup AC36 AC75 Presented...   \n",
       "37418  NBA G League Basketball game-0022000187 Lakers...   \n",
       "\n",
       "                                             description  \\\n",
       "27     Hey Guys!!! this has been the most requested v...   \n",
       "48     He had no idea! Thank you guys so much for wat...   \n",
       "95     I am so happy to tell you that I am pregnant!!...   \n",
       "103    Today, we're doing a blind taste test to deter...   \n",
       "182                    #jschlatt #schlatt #bigguy #short   \n",
       "...                                                  ...   \n",
       "37300   Discord Piwerre : https://discord.gg/QBduPgAA...   \n",
       "37329  The Kick Off watched Manchester City destroy C...   \n",
       "37345  Official audio for Lil Wayne \"Ain't Got Time\",...   \n",
       "37383  The opening day of the PRADA Cup in Auckland, ...   \n",
       "37418  PELICANS at LAKERS | FULL GAME HIGHLIGHTS | Ja...   \n",
       "\n",
       "                                                comments published_months  \\\n",
       "27     I feel like Nate and Aishas personality match ...              Jan   \n",
       "48     Thank you guys for watching and don't forget t...              Jan   \n",
       "95     Okay I needed a moment to collect my thoughts ...              Jan   \n",
       "103    \"there's nothing wrong with it being bent\"\\nI ...              Jan   \n",
       "182    Schlatt is single handedly wiping out all the ...              Jan   \n",
       "...                                                  ...              ...   \n",
       "37300  Mdr michou quand c'est pas ses tournage il fou...              Jan   \n",
       "37329  True Its like a fighter who Geordie But I thou...              Jan   \n",
       "37345  RIP Juice Wrld, wrote that on two cups, pour o...              Jan   \n",
       "37383  Incredible how these boats evolve in a short t...              Jan   \n",
       "37418  Montrezl Harrell is going crazy with the rebou...              Jan   \n",
       "\n",
       "       published_month  dislikes rate  \n",
       "27                   1       0.027397  \n",
       "48                   1       0.088842  \n",
       "95                   1       0.022323  \n",
       "103                  1       0.050233  \n",
       "182                  1       0.018841  \n",
       "...                ...            ...  \n",
       "37300                1       0.124113  \n",
       "37329                1       0.069055  \n",
       "37345                1       0.105663  \n",
       "37383                1       0.026151  \n",
       "37418                1       0.036912  \n",
       "\n",
       "[2099 rows x 15 columns]"
      ]
     },
     "execution_count": 27,
     "metadata": {},
     "output_type": "execute_result"
    }
   ],
   "source": [
    "# We only want 'Jan' month whole data so i used (query) function....It *filters* the data based on condition given by user...\n",
    "\n",
    "df.query(' published_months == \"Jan\"')"
   ]
  },
  {
   "cell_type": "code",
   "execution_count": 28,
   "id": "e8446c25",
   "metadata": {
    "ExecuteTime": {
     "end_time": "2024-01-27T11:38:53.744338Z",
     "start_time": "2024-01-27T11:38:53.732513Z"
    }
   },
   "outputs": [
    {
     "data": {
      "text/plain": [
       "2099"
      ]
     },
     "execution_count": 28,
     "metadata": {},
     "output_type": "execute_result"
    }
   ],
   "source": [
    "# count of videos published in 'Jan' month....\n",
    "\n",
    "df.query(' published_months == \"Jan\" ')['video_id'].count()"
   ]
  }
 ],
 "metadata": {
  "kernelspec": {
   "display_name": "Python 3 (ipykernel)",
   "language": "python",
   "name": "python3"
  },
  "language_info": {
   "codemirror_mode": {
    "name": "ipython",
    "version": 3
   },
   "file_extension": ".py",
   "mimetype": "text/x-python",
   "name": "python",
   "nbconvert_exporter": "python",
   "pygments_lexer": "ipython3",
   "version": "3.11.5"
  },
  "varInspector": {
   "cols": {
    "lenName": 16,
    "lenType": 16,
    "lenVar": 40
   },
   "kernels_config": {
    "python": {
     "delete_cmd_postfix": "",
     "delete_cmd_prefix": "del ",
     "library": "var_list.py",
     "varRefreshCmd": "print(var_dic_list())"
    },
    "r": {
     "delete_cmd_postfix": ") ",
     "delete_cmd_prefix": "rm(",
     "library": "var_list.r",
     "varRefreshCmd": "cat(var_dic_list()) "
    }
   },
   "types_to_exclude": [
    "module",
    "function",
    "builtin_function_or_method",
    "instance",
    "_Feature"
   ],
   "window_display": false
  }
 },
 "nbformat": 4,
 "nbformat_minor": 5
}
